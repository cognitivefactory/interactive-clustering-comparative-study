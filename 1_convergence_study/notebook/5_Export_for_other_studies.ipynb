{
 "cells": [
  {
   "cell_type": "markdown",
   "id": "eb684e4e",
   "metadata": {},
   "source": [
    "# ==== INTERACTIVE CLUSTERING : CONVERGENCE STUDY ====\n",
    "> ### Stage 4 : Export experiments for other studies."
   ]
  },
  {
   "cell_type": "markdown",
   "id": "c3de920f",
   "metadata": {},
   "source": [
    "------------------------------\n",
    "## READ-ME BEFORE RUNNING"
   ]
  },
  {
   "cell_type": "markdown",
   "id": "f2291fea",
   "metadata": {},
   "source": [
    "### Quick Description\n",
    "\n",
    "This notebook is **aimed at export experiments needed to run other studies**.\n",
    "- Environments are represented by subdirectories in the `/experiments` folder. A full path to an experiment environment is `/experiments/[DATASET]/[PREPROCESSING]/[VECTORIZATION]/[SAMPLING]/[CLUSTERING]/[EXPERIMENT]`.\n",
    "- Experiments have to be run and evaluated in order to analyze convergency speed.\n",
    "\n",
    "Before running, **run the notebook `2_Run_and_evaluate_convergence.ipynb` to run and evaluate each experiment you have set**."
   ]
  },
  {
   "cell_type": "markdown",
   "id": "4e17f5a0",
   "metadata": {},
   "source": [
    "------------------------------\n",
    "## 1. IMPORT PYTHON DEPENDENCIES"
   ]
  },
  {
   "cell_type": "code",
   "execution_count": null,
   "id": "390a8900",
   "metadata": {},
   "outputs": [],
   "source": [
    "import json\n",
    "import os\n",
    "import listing_envs\n",
    "from typing import Dict, List"
   ]
  },
  {
   "cell_type": "markdown",
   "id": "e3c9ec13",
   "metadata": {},
   "source": [
    "------------------------------\n",
    "## 2. EXPORT"
   ]
  },
  {
   "cell_type": "markdown",
   "id": "e5deff24",
   "metadata": {},
   "source": [
    "Find all experiment environments."
   ]
  },
  {
   "cell_type": "code",
   "execution_count": null,
   "id": "dac93bf7",
   "metadata": {},
   "outputs": [],
   "source": [
    "# Get list of experiment environments.\n",
    "LIST_OF_EXPERIMENT_ENVIRONMENTS: List[\n",
    "    str\n",
    "] = listing_envs.get_list_of_experiment_env_paths()\n",
    "print(\n",
    "    \"There are\",\n",
    "    \"`\" + str(len(LIST_OF_EXPERIMENT_ENVIRONMENTS)) + \"`\",\n",
    "    \"created experiment environments in `../experiments`\",\n",
    ")\n",
    "LIST_OF_EXPERIMENT_ENVIRONMENTS"
   ]
  },
  {
   "cell_type": "markdown",
   "id": "9f556b91",
   "metadata": {},
   "source": [
    "### 2.A. Export constraints"
   ]
  },
  {
   "cell_type": "markdown",
   "id": "426196ac",
   "metadata": {},
   "source": [
    "Define experiments you want for constraints export."
   ]
  },
  {
   "cell_type": "code",
   "execution_count": null,
   "id": "ee5d27d7",
   "metadata": {},
   "outputs": [],
   "source": [
    "LIST_OF_EXPERIMENT_ENVIRONMENTS_FOR_CONSTRAINTS_EXPORT = [\n",
    "    env\n",
    "    for env in LIST_OF_EXPERIMENT_ENVIRONMENTS\n",
    "    if (\n",
    "        \"bank_cards_v1\" == env.split(\"/\")[2]\n",
    "        and \"simple_prep\" == env.split(\"/\")[3]\n",
    "        and \"tfidf\" == env.split(\"/\")[4]\n",
    "        and \"closest-50\" == env.split(\"/\")[5]\n",
    "        and \"kmeans_COP-10c\" == env.split(\"/\")[6]\n",
    "    )\n",
    "]\n",
    "print(\n",
    "    \"There are\",\n",
    "    \"`\" + str(len(LIST_OF_EXPERIMENT_ENVIRONMENTS_FOR_CONSTRAINTS_EXPORT)) + \"`\",\n",
    "    \"selected experiment environments in `../experiments` for constraints export.\",\n",
    ")\n",
    "LIST_OF_EXPERIMENT_ENVIRONMENTS_FOR_CONSTRAINTS_EXPORT"
   ]
  },
  {
   "cell_type": "markdown",
   "id": "f4ee2e04",
   "metadata": {},
   "source": [
    "Check if the folder `../.temp/export_constraints` exists."
   ]
  },
  {
   "cell_type": "code",
   "execution_count": null,
   "id": "ac4d5678",
   "metadata": {},
   "outputs": [],
   "source": [
    "if not os.path.exists(\"../.temp/export_constraints\"):\n",
    "    os.mkdir(\"../.temp/export_constraints\")"
   ]
  },
  {
   "cell_type": "markdown",
   "id": "f1a3f9f2",
   "metadata": {},
   "source": [
    "Export constraints in `../.temp/export_constraints`."
   ]
  },
  {
   "cell_type": "code",
   "execution_count": null,
   "id": "b74aaf97",
   "metadata": {},
   "outputs": [],
   "source": [
    "for env in LIST_OF_EXPERIMENT_ENVIRONMENTS_FOR_CONSTRAINTS_EXPORT:\n",
    "    # Load constraints.\n",
    "    with open(env + \"dict_of_constraints_annotations.json\", \"r\") as constraints_file_r:\n",
    "        dict_of_constraints_annotations = json.load(constraints_file_r)\n",
    "\n",
    "    # Format destination filename.\n",
    "    export_constraints_destination_filename: str = \"../.temp/export_constraints/\" + \"_-_\".join(env.split(\"/\")[2:-1]) + \".json\"\n",
    "    \n",
    "    # Store constraints in .temp/export_constraints\n",
    "    with open(export_constraints_destination_filename, \"w\") as constraints_file_w:\n",
    "        json.dump(dict_of_constraints_annotations, constraints_file_w, indent=1)"
   ]
  },
  {
   "cell_type": "markdown",
   "id": "93404fa6",
   "metadata": {},
   "source": [
    "### 2.B. Export clustering results"
   ]
  },
  {
   "cell_type": "markdown",
   "id": "8dd289ec",
   "metadata": {},
   "source": [
    "Define experiments you want for clustering export."
   ]
  },
  {
   "cell_type": "code",
   "execution_count": null,
   "id": "6a807029",
   "metadata": {},
   "outputs": [],
   "source": [
    "LIST_OF_EXPERIMENT_ENVIRONMENTS_FOR_CLUSTERING_EXPORT = [\n",
    "    env\n",
    "    for env in LIST_OF_EXPERIMENT_ENVIRONMENTS\n",
    "]"
   ]
  },
  {
   "cell_type": "markdown",
   "id": "0febfa81",
   "metadata": {},
   "source": [
    "Check if the folder `../.temp/export_clustering` exists."
   ]
  },
  {
   "cell_type": "code",
   "execution_count": null,
   "id": "81e00438",
   "metadata": {},
   "outputs": [],
   "source": [
    "if not os.path.exists(\"../.temp/export_clustering\"):\n",
    "    os.mkdir(\"../.temp/export_clustering\")"
   ]
  },
  {
   "cell_type": "markdown",
   "id": "3d8b48e0",
   "metadata": {},
   "source": [
    "Export clustering in `../.temp/export_clustering`."
   ]
  },
  {
   "cell_type": "code",
   "execution_count": null,
   "id": "d2ef6a49",
   "metadata": {},
   "outputs": [],
   "source": [
    "for env in LIST_OF_EXPERIMENT_ENVIRONMENTS_FOR_CLUSTERING_EXPORT:\n",
    "    # Load constraints.\n",
    "    with open(env + \"dict_of_clustering_results.json\", \"r\") as clustering_file_r:\n",
    "        dict_of_clustering_results = json.load(clustering_file_r)\n",
    "\n",
    "    # Format destination filename.\n",
    "    export_clustering_destination_filename: str = \"../.temp/export_clustering/\" + \"_-_\".join(env.split(\"/\")[2:]) + \".json\"\n",
    "    \n",
    "    # Store constraints in .temp/export_clustering\n",
    "    with open(export_clustering_destination_filename, \"w\") as clustering_file_w:\n",
    "        json.dump(dict_of_clustering_results, clustering_file_w, indent=1)"
   ]
  },
  {
   "cell_type": "code",
   "execution_count": null,
   "id": "39a1d9ca",
   "metadata": {},
   "outputs": [],
   "source": []
  }
 ],
 "metadata": {
  "kernelspec": {
   "display_name": "Python 3 (ipykernel)",
   "language": "python",
   "name": "python3"
  },
  "language_info": {
   "codemirror_mode": {
    "name": "ipython",
    "version": 3
   },
   "file_extension": ".py",
   "mimetype": "text/x-python",
   "name": "python",
   "nbconvert_exporter": "python",
   "pygments_lexer": "ipython3",
   "version": "3.8.0"
  }
 },
 "nbformat": 4,
 "nbformat_minor": 5
}
