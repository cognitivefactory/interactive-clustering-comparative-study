{
 "cells": [
  {
   "cell_type": "markdown",
   "metadata": {},
   "source": [
    "# ==== INTERACTIVE CLUSTERING : EFFICIENCE STUDY ====\n",
    "> ### Drafts."
   ]
  },
  {
   "cell_type": "markdown",
   "metadata": {},
   "source": [
    "------------------------------\n",
    "## READ-ME BEFORE RUNNING"
   ]
  },
  {
   "cell_type": "markdown",
   "metadata": {},
   "source": [
    "### Quick Description\n",
    "\n",
    "***#TODO:***"
   ]
  },
  {
   "cell_type": "markdown",
   "metadata": {},
   "source": [
    "### Description each steps\n",
    "\n",
    "***#TODO:***"
   ]
  },
  {
   "cell_type": "markdown",
   "metadata": {},
   "source": [
    "------------------------------\n",
    "## [DRAFT] Main effects and Post-hoc analyses in Python"
   ]
  },
  {
   "cell_type": "markdown",
   "metadata": {},
   "source": [
    "***WARNING***: The notebook `3_Analyze_main_effecets_and_post_hoc.ipynb` is more suitable to perform Main effects and Post-hoc analyses in **R**."
   ]
  },
  {
   "cell_type": "markdown",
   "metadata": {},
   "source": [
    "Import Python dependencies."
   ]
  },
  {
   "cell_type": "code",
   "execution_count": null,
   "metadata": {},
   "outputs": [],
   "source": [
    "from statsmodels.stats.anova import (\n",
    "    AnovaRM,\n",
    ")  # Repeated Measure ANOVA. cf. https://www.statology.org/repeated-measures-anova-python/\n",
    "from statsmodels.stats.multicomp import pairwise_tukeyhsd  # Posthoc with Tuckey HSD."
   ]
  },
  {
   "cell_type": "markdown",
   "metadata": {},
   "source": [
    "Load the synthetized results."
   ]
  },
  {
   "cell_type": "code",
   "execution_count": null,
   "metadata": {},
   "outputs": [],
   "source": [
    "# Load synthesis dataframe.\n",
    "import pandas as pd\n",
    "\n",
    "df_analysis = pd.read_csv(\n",
    "    filepath_or_buffer=\"../results/experiments_synthesis.csv\",\n",
    "    sep=\";\",\n",
    "    index_col=0,\n",
    ")\n",
    "df_analysis.head()"
   ]
  },
  {
   "cell_type": "markdown",
   "metadata": {},
   "source": [
    "Apply Main Effect with a Repeated Measures ANOVA analysis."
   ]
  },
  {
   "cell_type": "code",
   "execution_count": null,
   "metadata": {},
   "outputs": [],
   "source": [
    "# Fit RM ANOVA model.\n",
    "anova_results = AnovaRM(\n",
    "    data=df_analysis,\n",
    "    depvar=\"V090v__iteration\",  # Metric= to analyse.\n",
    "    within=[\n",
    "        \"preprocessing\",\n",
    "        \"vectorization\",\n",
    "        \"sampling\",\n",
    "        \"clustering\",\n",
    "    ],  # Parameters to compare.\n",
    "    subject=\"random_seed\",  # Random seed as observation error.\n",
    ").fit().anova_table\n",
    "\n",
    "# Print ANOVA analysis results\n",
    "anova_results"
   ]
  },
  {
   "cell_type": "markdown",
   "metadata": {},
   "source": [
    "Apply post-hoc analysis with Tukey HSD."
   ]
  },
  {
   "cell_type": "code",
   "execution_count": null,
   "metadata": {},
   "outputs": [],
   "source": [
    "# Compute post-hoc comparison.\n",
    "tukey = pairwise_tukeyhsd(\n",
    "    endog=df_analysis[\"V090v__iteration\"],\n",
    "    groups=df_analysis[\"preprocessing\"],\n",
    "    alpha=0.05,\n",
    ")\n",
    "tukey.summary()"
   ]
  },
  {
   "cell_type": "code",
   "execution_count": null,
   "metadata": {},
   "outputs": [],
   "source": [
    "# Compute post-hoc comparison.\n",
    "tukey = pairwise_tukeyhsd(\n",
    "    endog=df_analysis[\"V090v__iteration\"],\n",
    "    groups=df_analysis[\"vectorization\"],\n",
    "    alpha=0.05,\n",
    ")\n",
    "tukey.summary()"
   ]
  },
  {
   "cell_type": "code",
   "execution_count": null,
   "metadata": {},
   "outputs": [],
   "source": [
    "# Compute post-hoc comparison.\n",
    "tukey = pairwise_tukeyhsd(\n",
    "    endog=df_analysis[\"V090v__iteration\"],\n",
    "    groups=df_analysis[\"sampling\"],\n",
    "    alpha=0.05,\n",
    ")\n",
    "tukey.summary()"
   ]
  },
  {
   "cell_type": "code",
   "execution_count": null,
   "metadata": {},
   "outputs": [],
   "source": [
    "# Compute post-hoc comparison.\n",
    "tukey = pairwise_tukeyhsd(\n",
    "    endog=df_analysis[\"V090v__iteration\"],\n",
    "    groups=df_analysis[\"clustering\"],\n",
    "    alpha=0.05,\n",
    ")\n",
    "tukey.summary()"
   ]
  },
  {
   "cell_type": "raw",
   "metadata": {
    "scrolled": true
   },
   "source": [
    "# For each parameter in ANOVA table.\n",
    "for parameters, anova_values in anova_results.anova_table.loc[\"preprocessing\"]\n",
    "    print(\"#############################\")\n",
    "    print(parameters)\n",
    "    if parameters not in {\"preprocessing\", \"vectorization\", \"sampling\", \"clustering\"}:\n",
    "        continue\n",
    "\n",
    "    # If null hypothesis rejected...\n",
    "    if anova_values[\"significant\"] is True:\n",
    "\n",
    "        # Complete data with combination of parameters.\n",
    "        if \":\" in parameters:  # Case of a combination.\n",
    "            df_analysis[parameters] = df_analysis[parameters.split(\":\")[0]]\n",
    "            for parameter in parameters.split(\":\")[1:]:\n",
    "                df_analysis[parameters] += \":\" + df_analysis[parameter]\n",
    "\n",
    "        # Compute post-hoc comparison.\n",
    "        tukey = pairwise_tukeyhsd(\n",
    "            endog=df_analysis[\"V080v__iteration\"],\n",
    "            groups=df_analysis[parameters],\n",
    "            alpha=0.05,\n",
    "        )\n",
    "        print(tukey.summary())"
   ]
  },
  {
   "cell_type": "markdown",
   "metadata": {},
   "source": [
    "***WARNING***: _The post-hoc analysis in Python are not adjust with the Tukey HSD, so results can differ from R analysis._"
   ]
  }
 ],
 "metadata": {
  "kernelspec": {
   "display_name": "Python 3 (ipykernel)",
   "language": "python",
   "name": "python3"
  },
  "language_info": {
   "codemirror_mode": {
    "name": "ipython",
    "version": 3
   },
   "file_extension": ".py",
   "mimetype": "text/x-python",
   "name": "python",
   "nbconvert_exporter": "python",
   "pygments_lexer": "ipython3",
   "version": "3.8.0"
  }
 },
 "nbformat": 4,
 "nbformat_minor": 4
}
