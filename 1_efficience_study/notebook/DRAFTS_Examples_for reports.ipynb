{
 "cells": [
  {
   "cell_type": "markdown",
   "id": "27aaf1c9",
   "metadata": {},
   "source": [
    "# ==== INTERACTIVE CLUSTERING : EFFICIENCE STUDY ====\n",
    "> ### DRAFTS : Some examples for report"
   ]
  },
  {
   "cell_type": "markdown",
   "id": "8309eff7",
   "metadata": {},
   "source": [
    "-----"
   ]
  },
  {
   "cell_type": "markdown",
   "id": "0859ea94",
   "metadata": {},
   "source": [
    "## [DRAFT] Test usage in PhD Report"
   ]
  },
  {
   "cell_type": "code",
   "execution_count": null,
   "id": "0dba6881",
   "metadata": {},
   "outputs": [],
   "source": [
    "# Définir les données.\n",
    "dict_of_texts = {\n",
    "    \"0\": \"Comment signaler un vol de carte bancaire ?\",\n",
    "    \"1\": \"J'ai égaré ma carte bancaire, que faire ?\",\n",
    "    \"2\": \"J'ai perdu ma carte de paiement\",\n",
    "    \"3\": \"Le distributeur a avalé ma carte !\",\n",
    "    \"4\": \"En retirant de l'argent, le GAB a gardé ma carte...\",\n",
    "    \"5\": \"Le distributeur ne m'a pas rendu ma carte bleue.\",\n",
    "    # ...\n",
    "    \"N\": \"Pourquoi le sans contact ne fonctionne pas ?\",\n",
    "}"
   ]
  },
  {
   "cell_type": "code",
   "execution_count": null,
   "id": "4d3ba6c7",
   "metadata": {},
   "outputs": [],
   "source": [
    "# Import des dépendances.\n",
    "from cognitivefactory.interactive_clustering.utils.preprocessing import preprocess\n",
    "from cognitivefactory.interactive_clustering.utils.vectorization import vectorize\n",
    "\n",
    "# Prétraitement des données.\n",
    "dict_of_preprocess_texts = preprocess(\n",
    "    dict_of_texts=dict_of_texts,\n",
    "    apply_stopwords_deletion=False,\n",
    "    apply_parsing_filter=False,\n",
    "    apply_lemmatization=False,\n",
    "    spacy_language_model=\"fr_core_news_md\",\n",
    ")\n",
    "\"\"\"\n",
    "    {\"0\": \"comment signaler un vol de carte bancaire\",\n",
    "     \"1\": \"j ai egare ma carte bancaire, que faire\",\n",
    "     \"2\": \"j ai perdu ma carte de paiement\",\n",
    "     \"3\": \"le distributeur a avale ma carte\",\n",
    "     \"4\": \"en retirant de l argent le gab a garde ma carte\",\n",
    "     \"5\": \"le distributeur ne m a pas rendu ma carte bleue\",\n",
    "     # ...\n",
    "     \"N\": \"pourquoi le sans contact ne fonctionne pas\"}\n",
    "\"\"\"\n",
    "\n",
    "# Vectorisation des données.\n",
    "dict_of_vectors = vectorize(\n",
    "    dict_of_texts=dict_of_preprocess_texts,\n",
    "    vectorizer_type=\"tfidf\",\n",
    ")"
   ]
  },
  {
   "cell_type": "code",
   "execution_count": null,
   "id": "ee332627",
   "metadata": {},
   "outputs": [],
   "source": [
    "# Import des dépendances.\n",
    "from cognitivefactory.interactive_clustering.constraints.factory import managing_factory\n",
    "\n",
    "# Création du gestionnaire de contraintes.\n",
    "constraints_manager = managing_factory(\n",
    "    manager=\"binary\",\n",
    "    list_of_data_IDs = list(dict_of_texts.keys()),  # [\"0\", \"1\", \"2\", \"3\", \"4\", \"5\", ..., \"N\"]\n",
    ")\n",
    "\n",
    "# Ajout de contraintes.\n",
    "constraints_manager.add_constraint(\n",
    "    data_ID1=\"0\",  # \"Comment signaler un vol de carte bancaire ?\"\n",
    "    data_ID2=\"1\",  # \"J'ai égaré ma carte bancaire, que faire ?\"\n",
    "    constraint_type=\"MUST_LINK\",\n",
    ")\n",
    "constraints_manager.add_constraint(\n",
    "    data_ID1=\"3\",  # \"Le distributeur a avalé ma carte !\"\n",
    "    data_ID2=\"4\",  # \"En retirant de l'argent, le GAB a gardé ma carte...\"\n",
    "    constraint_type=\"MUST_LINK\",\n",
    ")\n",
    "constraints_manager.add_constraint(\n",
    "    data_ID1=\"0\",  # \"Comment signaler un vol de carte bancaire ?\"\n",
    "    data_ID2=\"N\",  # \"Pourquoi le sans contact ne fonctionne pas ?\"\n",
    "    constraint_type=\"CANNOT_LINK\",\n",
    ")\n",
    "    # NB: ajouter une contrainte \"MUST_LINK\" entre \"1\" et \"N\" lèverait une erreur.\n",
    "\n",
    "constraints_manager.get_connected_components()\n",
    "\"\"\"\n",
    "    [['0', '1'],\n",
    "     ['2'],\n",
    "     ['3', '4'],\n",
    "     ['5'],\n",
    "     ['N']]\n",
    "\"\"\""
   ]
  },
  {
   "cell_type": "code",
   "execution_count": null,
   "id": "1633d352",
   "metadata": {},
   "outputs": [],
   "source": [
    "# Import des dépendances.\n",
    "from cognitivefactory.interactive_clustering.clustering.factory import clustering_factory\n",
    "\n",
    "# Initialiser un objet de clustering.\n",
    "clustering_model = clustering_factory(\n",
    "    algorithm=\"kmeans\",\n",
    "    model=\"COP\",\n",
    "    random_seed=42,\n",
    ")\n",
    "\n",
    "# Lancer le clustering.\n",
    "clustering_result = clustering_model.cluster(\n",
    "    constraints_manager=constraints_manager,\n",
    "    nb_clusters=2,\n",
    "    vectors=dict_of_vectors,\n",
    ")\n",
    "\"\"\"\n",
    "    {\"0\": 0,  # \"comment signaler un vol de carte bancaire\"\n",
    "     \"1\": 0,  # \"j ai egare ma carte bancaire, que faire\"\n",
    "     \"2\": 0,  # \"j ai perdu ma carte de paiement\"\n",
    "     \"3\": 1,  # \"le distributeur a avale ma carte\"\n",
    "     \"4\": 1,  # \"en retirant de l argent le gab a garde ma carte\"\n",
    "     \"5\": 1,  # \"le distributeur ne m a pas rendu ma carte bleue\"\n",
    "     # ...\n",
    "     \"N\": 1}  # \"pourquoi le sans contact ne fonctionne pas\"\n",
    "\"\"\""
   ]
  },
  {
   "cell_type": "code",
   "execution_count": null,
   "id": "23eb299f",
   "metadata": {},
   "outputs": [],
   "source": [
    "# Import des dépendances.\n",
    "from cognitivefactory.interactive_clustering.sampling.factory import sampling_factory\n",
    "\n",
    "# Initialiser un objet d'échantillonnage.\n",
    "sampler = sampling_factory(\n",
    "    algorithm=\"random\",\n",
    "    random_seed=42,\n",
    ")\n",
    "\n",
    "# Run sampling.\n",
    "selection = sampler.sample(\n",
    "    constraints_manager=constraints_manager,\n",
    "    nb_to_select=2,\n",
    "    clustering_result=clustering_result,  # optionnel pour \"random\"\n",
    "    vectors=dict_of_vectors,  # optionnel pour \"random\"\n",
    ")\n",
    "\"\"\"\n",
    "    [(\"0\", '5\"),  # \"Comment signaler un vol de carte bancaire ?\" vs \"Le distributeur ne m'a pas rendu ma carte bleue.\"\n",
    "     (\"0\", '2\"),  # \"Comment signaler un vol de carte bancaire ?\" vs \"J'ai perdu ma carte de paiement\"\n",
    "     (\"2\", 'N\")]  # \"J'ai perdu ma carte de paiement\" vs \"Pourquoi le sans contact ne fonctionne pas ?\"\n",
    "\"\"\""
   ]
  },
  {
   "cell_type": "code",
   "execution_count": null,
   "id": "31574e6d",
   "metadata": {},
   "outputs": [],
   "source": []
  }
 ],
 "metadata": {
  "kernelspec": {
   "display_name": "Python 3 (ipykernel)",
   "language": "python",
   "name": "python3"
  },
  "language_info": {
   "codemirror_mode": {
    "name": "ipython",
    "version": 3
   },
   "file_extension": ".py",
   "mimetype": "text/x-python",
   "name": "python",
   "nbconvert_exporter": "python",
   "pygments_lexer": "ipython3",
   "version": "3.8.0"
  }
 },
 "nbformat": 4,
 "nbformat_minor": 5
}
