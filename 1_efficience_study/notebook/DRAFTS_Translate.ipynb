{
 "cells": [
  {
   "cell_type": "markdown",
   "id": "eb684e4e",
   "metadata": {},
   "source": [
    "# ==== INTERACTIVE CLUSTERING : EFFICIENCE STUDY ====\n",
    "> ### Drafts."
   ]
  },
  {
   "cell_type": "markdown",
   "id": "c3de920f",
   "metadata": {},
   "source": [
    "------------------------------\n",
    "## READ-ME BEFORE RUNNING"
   ]
  },
  {
   "cell_type": "markdown",
   "id": "f2291fea",
   "metadata": {},
   "source": [
    "### Quick Description\n",
    "\n",
    "Translate IDs"
   ]
  },
  {
   "cell_type": "markdown",
   "id": "b547eda3",
   "metadata": {},
   "source": [
    "### Description each steps\n",
    "\n",
    "***#TODO:***"
   ]
  },
  {
   "cell_type": "markdown",
   "id": "4e17f5a0",
   "metadata": {},
   "source": [
    "------------------------------\n",
    "## [DRAFT] TRANSLATE"
   ]
  },
  {
   "cell_type": "code",
   "execution_count": null,
   "id": "7b3e5b01",
   "metadata": {},
   "outputs": [],
   "source": [
    "import pandas as pd\n",
    "import pickle"
   ]
  },
  {
   "cell_type": "code",
   "execution_count": null,
   "id": "bc60f43d",
   "metadata": {},
   "outputs": [],
   "source": [
    "df_dataset: pd.DataFrame = pd.read_excel(\n",
    "    io=\"../../datasets/French_trainset_for_chatbots_dealing_with_usual_requests_on_bank_cards_v1.0.0.xlsx\",\n",
    "    sheet_name=\"dataset\",\n",
    "    engine=\"openpyxl\",\n",
    ")\n",
    "df_dataset.drop_duplicates(inplace=True)\n",
    "\n",
    "dict_of_texts: Dict[str, str] = {\n",
    "    str(data_id): str(value[\"QUESTION\"])\n",
    "    for data_id, value in df_dataset.to_dict(\"index\").items()\n",
    "}\n",
    "    \n",
    "REVERSE_dict_of_texts = {\n",
    "    v:k\n",
    "    for k,v in dict_of_texts.items()\n",
    "}"
   ]
  },
  {
   "cell_type": "markdown",
   "id": "c102e73c",
   "metadata": {},
   "source": [
    "# dict_of_texts"
   ]
  },
  {
   "cell_type": "code",
   "execution_count": null,
   "id": "434d06f3",
   "metadata": {},
   "outputs": [],
   "source": [
    "with open(\"../experiments/bank_cards_v1/\" + \"dict_of_texts.json\", \"r\") as f:\n",
    "    OLD = json.load(f)"
   ]
  },
  {
   "cell_type": "code",
   "execution_count": null,
   "id": "ce673f41",
   "metadata": {},
   "outputs": [],
   "source": [
    "NEW = {\n",
    "    REVERSE_dict_of_texts[k]: v\n",
    "    for k, v in OLD.items()\n",
    "}"
   ]
  },
  {
   "cell_type": "code",
   "execution_count": null,
   "id": "4cdd9fbf",
   "metadata": {},
   "outputs": [],
   "source": [
    "with open(\"../experiments/bank_cards_v1/\" + \"dict_of_texts.json\", \"w\") as f:\n",
    "    json.dump(NEW_dict_of_texts, f)"
   ]
  },
  {
   "cell_type": "markdown",
   "id": "ca137de2",
   "metadata": {},
   "source": [
    "# dict_of_true_intents"
   ]
  },
  {
   "cell_type": "code",
   "execution_count": null,
   "id": "699d49ef",
   "metadata": {},
   "outputs": [],
   "source": [
    "with open(\"../experiments/bank_cards_v1/\" + \"dict_of_true_intents.json\", \"r\") as f:\n",
    "    OLD = json.load(f)"
   ]
  },
  {
   "cell_type": "code",
   "execution_count": null,
   "id": "61c25240",
   "metadata": {},
   "outputs": [],
   "source": [
    "NEW = {\n",
    "    REVERSE_dict_of_texts[k]: v\n",
    "    for k, v in OLD.items()\n",
    "}"
   ]
  },
  {
   "cell_type": "code",
   "execution_count": null,
   "id": "0dacf22d",
   "metadata": {},
   "outputs": [],
   "source": [
    "with open(\"../experiments/bank_cards_v1/\" + \"dict_of_true_intents.json\", \"w\") as f:\n",
    "    json.dump(NEW, f)"
   ]
  },
  {
   "cell_type": "markdown",
   "id": "5e96c56c",
   "metadata": {},
   "source": [
    "# dict_of_preprocessed_texts"
   ]
  },
  {
   "cell_type": "code",
   "execution_count": null,
   "id": "96971962",
   "metadata": {},
   "outputs": [],
   "source": [
    "for env in listing_envs.get_list_of_preprocessing_env_paths():\n",
    "    \n",
    "    with open(env + \"dict_of_preprocessed_texts.json\", \"r\") as f:\n",
    "        OLD = json.load(f)\n",
    "    \n",
    "    NEW = {\n",
    "        REVERSE_dict_of_texts[k]: v\n",
    "        for k, v in OLD.items()\n",
    "    }\n",
    "    \n",
    "    with open(env + \"dict_of_preprocessed_texts.json\", \"w\") as f:\n",
    "        json.dump(NEW, f)"
   ]
  },
  {
   "cell_type": "markdown",
   "id": "0dd8fc99",
   "metadata": {},
   "source": [
    "# dict_of_vectors"
   ]
  },
  {
   "cell_type": "code",
   "execution_count": null,
   "id": "4830c44f",
   "metadata": {},
   "outputs": [],
   "source": [
    "for env in listing_envs.get_list_of_vectorization_env_paths():\n",
    "    \n",
    "    with open(env + \"dict_of_vectors.pkl\", \"rb\") as f:\n",
    "        OLD = pickle.load(f)\n",
    "    \n",
    "    NEW = {\n",
    "        REVERSE_dict_of_texts[k]: v\n",
    "        for k, v in OLD.items()\n",
    "    }\n",
    "    with open(env + \"dict_of_vectors.pkl\", \"wb\") as f:\n",
    "        pickle.dump(NEW, f)"
   ]
  },
  {
   "cell_type": "markdown",
   "id": "81e64a85",
   "metadata": {},
   "source": [
    "# dict_of_clustering_results"
   ]
  },
  {
   "cell_type": "code",
   "execution_count": null,
   "id": "ce845a0c",
   "metadata": {},
   "outputs": [],
   "source": [
    "for env in listing_envs.get_list_of_experiment_env_paths():\n",
    "    with open(env + \"dict_of_clustering_results.json\", \"r\") as f:\n",
    "        OLD = json.load(f)\n",
    "    \n",
    "    NEW = {\n",
    "        it: {\n",
    "            REVERSE_dict_of_texts[k]: v\n",
    "            for k, v in c.items()\n",
    "        }\n",
    "        for it, c in OLD.items()\n",
    "    }\n",
    "    with open(env + \"dict_of_clustering_results.json\", \"w\") as f:\n",
    "        json.dump(NEW, f)"
   ]
  },
  {
   "cell_type": "markdown",
   "id": "c0ad5238",
   "metadata": {},
   "source": [
    "# dict_of_constraints_annotations"
   ]
  },
  {
   "cell_type": "code",
   "execution_count": null,
   "id": "164c698f",
   "metadata": {},
   "outputs": [],
   "source": [
    "for env in listing_envs.get_list_of_experiment_env_paths():\n",
    "    with open(env + \"dict_of_constraints_annotations.json\", \"r\") as f:\n",
    "        OLD = json.load(f)\n",
    "    \n",
    "    NEW = {\n",
    "        it: [\n",
    "            [\n",
    "                REVERSE_dict_of_texts[v[0]],\n",
    "                REVERSE_dict_of_texts[v[1]],\n",
    "                v[2]\n",
    "            ]\n",
    "            for v in c\n",
    "        ]\n",
    "        for it, c in OLD.items()\n",
    "    }\n",
    "    \n",
    "    with open(env + \"dict_of_constraints_annotations.json\", \"w\") as f:\n",
    "        json.dump(NEW, f)"
   ]
  },
  {
   "cell_type": "code",
   "execution_count": null,
   "id": "7bf74a78",
   "metadata": {},
   "outputs": [],
   "source": []
  }
 ],
 "metadata": {
  "kernelspec": {
   "display_name": "Python 3 (ipykernel)",
   "language": "python",
   "name": "python3"
  },
  "language_info": {
   "codemirror_mode": {
    "name": "ipython",
    "version": 3
   },
   "file_extension": ".py",
   "mimetype": "text/x-python",
   "name": "python",
   "nbconvert_exporter": "python",
   "pygments_lexer": "ipython3",
   "version": "3.8.0"
  }
 },
 "nbformat": 4,
 "nbformat_minor": 5
}
