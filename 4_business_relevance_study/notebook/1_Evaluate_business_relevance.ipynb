{
 "cells": [
  {
   "cell_type": "markdown",
   "id": "063673fd",
   "metadata": {},
   "source": [
    "# ==== INTERACTIVE CLUSTERING : BUSINESS RELEVANCE STUDY ====\n",
    "> ### Stage 1 : Evaluate business relevance on previous experiments."
   ]
  },
  {
   "cell_type": "markdown",
   "id": "a12982cf",
   "metadata": {},
   "source": [
    "------------------------------\n",
    "## READ-ME BEFORE RUNNING"
   ]
  },
  {
   "cell_type": "markdown",
   "id": "e7e43b6e",
   "metadata": {},
   "source": [
    "### Quick Description\n",
    "\n",
    "TODO"
   ]
  },
  {
   "cell_type": "markdown",
   "id": "f429f1eb",
   "metadata": {},
   "source": [
    "### Description each steps\n",
    "\n",
    "TODO"
   ]
  },
  {
   "cell_type": "markdown",
   "id": "82ec8386",
   "metadata": {},
   "source": [
    "------------------------------\n",
    "## 1. IMPORT PYTHON DEPENDENCIES"
   ]
  },
  {
   "cell_type": "code",
   "execution_count": null,
   "id": "3286e8db",
   "metadata": {},
   "outputs": [],
   "source": [
    "from typing import Dict, List\n",
    "import multiprocessing as mp\n",
    "import os\n",
    "import tqdm\n",
    "import workerA_run"
   ]
  },
  {
   "cell_type": "code",
   "execution_count": null,
   "id": "f1b310fd",
   "metadata": {},
   "outputs": [],
   "source": [
    "import warnings\n",
    "warnings.filterwarnings(\"ignore\")"
   ]
  },
  {
   "cell_type": "markdown",
   "id": "baf441af",
   "metadata": {},
   "source": [
    "------------------------------\n",
    "## 2. RUN BUSINESS RELEVANCE STUDY EXPERIMENTS"
   ]
  },
  {
   "cell_type": "markdown",
   "id": "42055773",
   "metadata": {},
   "source": [
    "Find all experiment environments."
   ]
  },
  {
   "cell_type": "code",
   "execution_count": null,
   "id": "417d0f7b",
   "metadata": {},
   "outputs": [],
   "source": [
    "# List of run tasks to parallelize.\n",
    "list_of_evaluation_tasks: List[str] = [\n",
    "    {\n",
    "        \"ENV_FILENAME\": exp_to_evaluate,  # Environment of experiment.\n",
    "    }\n",
    "    for exp_to_evaluate in os.listdir(\"../previous\")\n",
    "    if (\n",
    "        \".json\" in exp_to_evaluate\n",
    "        and (exp_to_evaluate) not in os.listdir(\"../experiments\")\n",
    "    )\n",
    "]\n",
    "print(\"There are\", \"`\" + str(len(list_of_evaluation_tasks)) + \"`\", \"run tasks to launch.\")\n",
    "##### list_of_evaluation_tasks"
   ]
  },
  {
   "cell_type": "markdown",
   "id": "a7c384f7",
   "metadata": {},
   "source": [
    "Run all defined tasks with `multiprocessing` : Each task is given to a worker."
   ]
  },
  {
   "cell_type": "code",
   "execution_count": null,
   "id": "ee246a63",
   "metadata": {},
   "outputs": [],
   "source": [
    "# Number of worker (logical CPU).\n",
    "number_of_workers_for_run: int = 4  # mp.cpu_count()  # TODO: set it manually !\n",
    "print(\n",
    "    \"There are\",\n",
    "    \"`\" + str(number_of_workers_for_run) + \"`\",\n",
    "    \"logical CPUs used for evaluation experiments.\",\n",
    ")"
   ]
  },
  {
   "cell_type": "code",
   "execution_count": null,
   "id": "52f7a317",
   "metadata": {},
   "outputs": [],
   "source": [
    "# Run tasks in parallel.\n",
    "if __name__ == \"__main__\":\n",
    "\n",
    "    # Define the pool of workers.\n",
    "    pool_for_run = mp.Pool(number_of_workers_for_run)\n",
    "\n",
    "    # Map the list of tasks with the pool of workers. Show a progress bar with `tqdm`.\n",
    "    for _ in tqdm.tqdm(  # noqa: WPS352\n",
    "        pool_for_run.imap_unordered(workerA_run.experiment_run, list_of_evaluation_tasks),\n",
    "        total=len(list_of_evaluation_tasks),\n",
    "    ):\n",
    "        pass  # noqa: WPS420"
   ]
  },
  {
   "cell_type": "code",
   "execution_count": null,
   "id": "0e24f9bc",
   "metadata": {},
   "outputs": [],
   "source": []
  }
 ],
 "metadata": {
  "kernelspec": {
   "display_name": "Python 3 (ipykernel)",
   "language": "python",
   "name": "python3"
  },
  "language_info": {
   "codemirror_mode": {
    "name": "ipython",
    "version": 3
   },
   "file_extension": ".py",
   "mimetype": "text/x-python",
   "name": "python",
   "nbconvert_exporter": "python",
   "pygments_lexer": "ipython3",
   "version": "3.8.0"
  }
 },
 "nbformat": 4,
 "nbformat_minor": 5
}
