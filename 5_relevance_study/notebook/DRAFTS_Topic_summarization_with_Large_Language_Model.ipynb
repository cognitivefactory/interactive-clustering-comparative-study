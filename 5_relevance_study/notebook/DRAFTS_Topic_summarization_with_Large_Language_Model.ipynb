{
 "cells": [
  {
   "cell_type": "markdown",
   "id": "58fdf8ef",
   "metadata": {},
   "source": [
    "# ==== INTERACTIVE CLUSTERING : BUSINESS RELEVANCE STUDY ====\n",
    "> [DRAFTS] Topic summarization with Large Language Model"
   ]
  },
  {
   "cell_type": "markdown",
   "id": "a12982cf",
   "metadata": {},
   "source": [
    "------------------------------\n",
    "## READ-ME BEFORE RUNNING"
   ]
  },
  {
   "cell_type": "markdown",
   "id": "19114b59",
   "metadata": {},
   "source": [
    "Idea from: http://github.com/cohere-ai/sandbox-topically"
   ]
  },
  {
   "cell_type": "markdown",
   "id": "a4d833a4",
   "metadata": {},
   "source": [
    "-----\n",
    "## Python dependencies"
   ]
  },
  {
   "cell_type": "code",
   "execution_count": null,
   "id": "cdb73c4e",
   "metadata": {},
   "outputs": [],
   "source": [
    "import sys\n",
    "sys.path.append(\"../..\")"
   ]
  },
  {
   "cell_type": "code",
   "execution_count": null,
   "id": "d8ef914b",
   "metadata": {},
   "outputs": [],
   "source": [
    "import credentials\n",
    "# Need a file `credentials.py` in projet home (`..`)\n",
    "# with content `OPENAI_API_TOKEN = \"...\"` from https://platform.openai.com/account/api-keys"
   ]
  },
  {
   "cell_type": "markdown",
   "id": "74efbe59",
   "metadata": {},
   "source": [
    "Needed content of **./credentials.py**\n",
    "- `OPENAI_API_TOKEN = \"...\"`  # from https://platform.openai.com/account/api-keys"
   ]
  },
  {
   "cell_type": "markdown",
   "id": "f74db165",
   "metadata": {},
   "source": [
    "-----\n",
    "## Define topic data"
   ]
  },
  {
   "cell_type": "markdown",
   "id": "a2f6fa59",
   "metadata": {},
   "source": [
    "Define topic questions."
   ]
  },
  {
   "cell_type": "code",
   "execution_count": null,
   "id": "cad5ea93",
   "metadata": {},
   "outputs": [],
   "source": [
    "# Questions, one per line\n",
    "questions: str = \"\"\"\n",
    "carte perdue\n",
    "carte volée\n",
    "Comment déclarer le vol d'une carte de paiements ?\n",
    "Comment déclarer une carte volée ?\n",
    "Comment signaler la perte de ma carte ?\n",
    "Comment signaler un vol de carte bancaire ?\n",
    "Comment signaler un vol de carte bleue ?\n",
    "Comment signaler une perte de carte de paiement ?\n",
    "déclaration carte volée\n",
    "déclaration perte de carte\n",
    "déclaration vol de carte bleue.\n",
    "déclarer la perte de ma carte de paiement\n",
    "déclarer un vol de carte bancaire\n",
    "déclarer une perte de carte de paiement\n",
    "démarche perte de carte\n",
    "démarche vol de carte\n",
    "J'ai égaré ma carte\n",
    "J'ai égaré ma carte bancaire, que faire ?\n",
    "J'ai égaré ma carte de crédit !\n",
    "J'ai égaré ma carte de paiement.\n",
    "J'ai égaré ma Mastercard.\n",
    "J'ai oublié ma carte bancaire, que faire ?\n",
    "J'ai oublié ma carte et je ne la retrouve plus\n",
    "J'ai perdu ma carte bancaire.\n",
    "J'ai perdu ma carte bleue...\n",
    "J'ai perdu ma carte de paiement\n",
    "J'ai perdu ma Mastercard.\n",
    "J'ai perdu une carte bancaire\n",
    "J'aimerai déclarer la perte de ma carte bancaire.\n",
    "J'aimerai déclarer la perte de ma carte Visa.\n",
    "J'aimerai déclarer un vol de carte.\n",
    "J'aimerai déclarer une perte de carte.\n",
    "Je me suis fait voler ma carte bancaire.\n",
    "Je me suis fait voler ma carte bleue.\n",
    "Je n'ai pas retrouvé ma carte bancaire depuis plusieurs jours.\n",
    "Je ne retrouve pas ma carte Visa.\n",
    "Je ne retrouve pas ma Mastercard.\n",
    "Je ne retrouve plus ma carte de paiements\n",
    "Je ne retrouve plus ma Visa\n",
    "Je ne sais pas où j'ai laissé ma carte de crédit, que faire ?\n",
    "Je ne sais plus où est ma carte bancaire…\n",
    "Je ne sais plus où est ma carte de crédit\n",
    "Je ne sais plus où est ma carte Visa\n",
    "je ne sais plus où est ma Mastercard…\n",
    "Je ne trouve plus ma carte bancaire !\n",
    "Je souhaite déclarer la perte de ma carte Gold.\n",
    "Je souhaite déclarer une perte de carte bleue.\n",
    "Je souhaite signaler le vol d'une carte de crédit.\n",
    "Je souhaite vous avertir de la perte de ma carte.\n",
    "Je suis victime d'un vol de carte bancaire.\n",
    "Je suis victime d'un vol de carte.\n",
    "Je veux déclarer le vol de ma Mastercard\n",
    "Je veux signaler la perte de ma carte de paiement.\n",
    "Je veux signaler une perte de carte.\n",
    "Ma carte Visa a été dérobée.\n",
    "Ma Mastercard a été égarée.\n",
    "Ma Mastercard a été subtilisée.\n",
    "On a dérobé ma carte bancaire.\n",
    "On a dérobé ma carte de crédit.\n",
    "On a subtilisé ma carte de crédit.\n",
    "On a volé ma carte bleue !\n",
    "On a volé ma carte, que faire ?\n",
    "On a volé ma Mastercard !\n",
    "perte carte\n",
    "perte carte Visa\n",
    "perte de carte\n",
    "perte de carte bleue\n",
    "perte de Mastercard\n",
    "perte ou vol de carte\n",
    "Que dois-je faire en cas de perte de carte bancaire ?\n",
    "Que dois-je faire en cas de perte de ma carte ?\n",
    "Que faire en cas de carte perdue ?\n",
    "Que faire en cas de perte de carte de paiement ?\n",
    "Que faire en cas de vol de carte ?\n",
    "Que faire en cas de vol de sa carte bleue ?\n",
    "Que faire si j'ai égaré ma carte bleue ?\n",
    "Que faire si je ne retrouve pas ma carte bancaire ?\n",
    "Que faire si je perds ma carte bancaire ?\n",
    "Que faire si je perds ma carte de crédit ?\n",
    "Que faire si je perds ma carte Gold ?\n",
    "Quelle démarche si je ne retrouve plus ma carte bleue ?\n",
    "Quelle est la demarche en cas de perte de carte ?\n",
    "Quelle est la demarche en cas de vol de carte ?\n",
    "Quelqu'un a dérobé ma carte bancaire !\n",
    "Quelqu'un a subtilisé ma carte bleue !\n",
    "Quelqu'un a volé ma carte de paiement !\n",
    "signalement carte perdue\n",
    "signalement carte volée\n",
    "signalement perte de carte\n",
    "signalement vol de carte\n",
    "signaler la parte d'une carte\n",
    "signaler perte ou vol de carte\n",
    "Un inconnu a dérobé ma carte bleue...\n",
    "Un inconnu a subtilisé ma carte bancaire.\n",
    "vol carte\n",
    "vol carte bancaire\n",
    "vol carte de crédit\n",
    "vol de carte de paiement\n",
    "vol de carte de paiements\n",
    "vol de Mastercard\n",
    "\"\"\""
   ]
  },
  {
   "cell_type": "markdown",
   "id": "34cf2a3a",
   "metadata": {},
   "source": [
    "-----\n",
    "## Call the model with `openai`"
   ]
  },
  {
   "cell_type": "raw",
   "id": "077abf4d",
   "metadata": {},
   "source": [
    "! pip install openai"
   ]
  },
  {
   "cell_type": "code",
   "execution_count": null,
   "id": "e0ea4243",
   "metadata": {},
   "outputs": [],
   "source": [
    "import openai"
   ]
  },
  {
   "cell_type": "code",
   "execution_count": null,
   "id": "ed97fedb",
   "metadata": {},
   "outputs": [],
   "source": [
    "# Define OpenAI API key.\n",
    "openai.api_key = credentials.OPENAI_API_TOKEN"
   ]
  },
  {
   "cell_type": "code",
   "execution_count": null,
   "id": "54549af3",
   "metadata": {},
   "outputs": [],
   "source": [
    "# Create a chat completion.\n",
    "chat_completion = openai.ChatCompletion.create(\n",
    "    model=\"gpt-3.5-turbo\",\n",
    "    messages=[\n",
    "        {\n",
    "            \"role\": \"system\",\n",
    "            \"content\": \"{context}\".format(\n",
    "                context=\"Tu es un expert des secteurs banque, assurance et finance.\",\n",
    "            )\n",
    "        },\n",
    "        {\n",
    "            \"role\": \"user\",\n",
    "            \"content\": \"{task}:\\n\\n{data}\".format(\n",
    "                task=\"Résume-moi en une phrase la thématique traitée dans les textes suivants.\",\n",
    "                data=questions,\n",
    "            )\n",
    "        }\n",
    "    ]\n",
    ")\n",
    "\n",
    "# print the chat completion\n",
    "chat_completion"
   ]
  },
  {
   "cell_type": "markdown",
   "id": "1372a075",
   "metadata": {},
   "source": [
    "> * `La thématique traitée dans ces textes est les démarches à suivre en cas de perte, vol ou dérobement d'une carte bancaire, de crédit ou de paiement.`"
   ]
  },
  {
   "cell_type": "markdown",
   "id": "643f62b0",
   "metadata": {},
   "source": [
    "-----\n",
    "## Call the model with `haystack`"
   ]
  },
  {
   "cell_type": "raw",
   "id": "a4d4f4a3",
   "metadata": {},
   "source": [
    "! pip install farm-haystack"
   ]
  },
  {
   "cell_type": "code",
   "execution_count": null,
   "id": "9b83835f",
   "metadata": {},
   "outputs": [],
   "source": [
    "import haystack\n",
    "from haystack.nodes import PromptTemplate\n",
    "from haystack.nodes import PromptNode"
   ]
  },
  {
   "cell_type": "code",
   "execution_count": null,
   "id": "359bcdfa",
   "metadata": {},
   "outputs": [],
   "source": [
    "# Get language model.\n",
    "language_model: PromptNode = PromptNode(\n",
    "    model_name_or_path=\"text-davinci-003\",  #   \"text-davinci-003\", \"gpt-3.5-turbo\"\n",
    "    api_key=credentials.OPENAI_API_TOKEN,\n",
    ")"
   ]
  },
  {
   "cell_type": "code",
   "execution_count": null,
   "id": "a189d6ab",
   "metadata": {},
   "outputs": [],
   "source": [
    "# Define prompt template.\n",
    "template: PromptTemplate = PromptTemplate(\n",
    "    prompt_text=\"\"\"\n",
    "    Trouver la thématique traitée dans le texte ci-dessous.\n",
    "    Texte : $text\n",
    "    \"\"\",\n",
    "    name=\"Description d'un topic\",\n",
    ")"
   ]
  },
  {
   "cell_type": "code",
   "execution_count": null,
   "id": "2606c312",
   "metadata": {},
   "outputs": [],
   "source": [
    "answer = language_model.prompt(\n",
    "    prompt_template=template,\n",
    "    text=questions,  # topic keywords or topic questions.\n",
    ")\n",
    "print(answer[0])"
   ]
  },
  {
   "cell_type": "markdown",
   "id": "9f5b774b",
   "metadata": {},
   "source": [
    "> - `Thématique traitée : Les démarches à suivre en cas de perte ou de vol de carte bancaire ou de carte de paiement.`"
   ]
  }
 ],
 "metadata": {
  "kernelspec": {
   "display_name": "Python 3 (ipykernel)",
   "language": "python",
   "name": "python3"
  },
  "language_info": {
   "codemirror_mode": {
    "name": "ipython",
    "version": 3
   },
   "file_extension": ".py",
   "mimetype": "text/x-python",
   "name": "python",
   "nbconvert_exporter": "python",
   "pygments_lexer": "ipython3",
   "version": "3.10.8"
  }
 },
 "nbformat": 4,
 "nbformat_minor": 5
}
