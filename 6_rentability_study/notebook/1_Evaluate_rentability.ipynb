{
 "cells": [
  {
   "cell_type": "markdown",
   "id": "063673fd",
   "metadata": {},
   "source": [
    "# ==== INTERACTIVE CLUSTERING : RENTABILITY STUDY ====\n",
    "> ### Stage 1 : Evaluate rentability of one more iteration."
   ]
  },
  {
   "cell_type": "markdown",
   "id": "a12982cf",
   "metadata": {},
   "source": [
    "------------------------------\n",
    "## READ-ME BEFORE RUNNING"
   ]
  },
  {
   "cell_type": "markdown",
   "id": "e7e43b6e",
   "metadata": {},
   "source": [
    "### Quick Description\n",
    "\n",
    "This notebook is **aimed at compute rentability of performaing one more iteration of interactive clustering**.\n",
    "- Computations are based on previous experiments (cf. efficience study) exported in `./previous` folder.\n",
    "- Environments results are stored in their `.JSON` files in the `/experiments` folder.\n",
    "\n",
    "Then, **go to the notebook `2_Plot_some_figures.ipynb` to plot several figures according to these computations**."
   ]
  },
  {
   "cell_type": "markdown",
   "id": "f429f1eb",
   "metadata": {},
   "source": [
    "### Description each steps\n",
    "\n",
    "The several computations are :\n",
    "- `annotation_agreement_score`: Compute the proportion of annotations that is similar to previous clustering results (\"MUST_LINK\" when same cluster, \"CANNOT_LINK\" when different clusters). If agreement is low (near to `0.0`), then constraints annotated will considerably fix clustering in next iteration. Otherwise, clustering is stable.\n",
    "- `clustering_similarity`: Compute v-measure between two clustering to estimate local similarity."
   ]
  },
  {
   "cell_type": "markdown",
   "id": "82ec8386",
   "metadata": {},
   "source": [
    "------------------------------\n",
    "## 1. IMPORT PYTHON DEPENDENCIES"
   ]
  },
  {
   "cell_type": "code",
   "execution_count": null,
   "id": "3286e8db",
   "metadata": {},
   "outputs": [],
   "source": [
    "from typing import Any, Dict, List, Optional, Tuple\n",
    "import os\n",
    "import json"
   ]
  },
  {
   "cell_type": "code",
   "execution_count": null,
   "id": "f1b310fd",
   "metadata": {},
   "outputs": [],
   "source": [
    "import warnings\n",
    "warnings.filterwarnings(\"ignore\")"
   ]
  },
  {
   "cell_type": "markdown",
   "id": "dd66dfeb",
   "metadata": {},
   "source": [
    "------------------------------\n",
    "## 2. LOAD EXPERIMENTS TO STUDY"
   ]
  },
  {
   "cell_type": "markdown",
   "id": "2119cd79",
   "metadata": {},
   "source": [
    "Find all implementations to analyze and associated experiments."
   ]
  },
  {
   "cell_type": "code",
   "execution_count": null,
   "id": "9b50dc85",
   "metadata": {},
   "outputs": [],
   "source": [
    "# List of run tasks to parallelize.\n",
    "LIST_OF_TASKS: List[Dict[str, str]] = [\n",
    "    {\n",
    "        \"implementation\": implementation,  # Environment of experiment.\n",
    "        \"experiments\": [\n",
    "            exp_path\n",
    "            for exp_path in os.listdir(\"../previous/\"+implementation)\n",
    "            if \".json\" in exp_path\n",
    "        ]\n",
    "    }\n",
    "    for implementation in os.listdir(\"../previous\")\n",
    "    if (\n",
    "        os.path.isdir(\"../previous/\" + implementation)\n",
    "        and implementation in [\n",
    "            \"bank_cards_v1_-_settings_0_partial\",  # \"bank_cards_v1\" + \"settings_0_partial\" # \"bank_cards_v1\" + \"simple_prep_-_tfidf\" + \"closest-50\" + \"hier_avg-10c\", best to reach 90% of v-measure (cf. efficiency study)\n",
    "            \"bank_cards_v1_-_settings_1_sufficient\",  # \"bank_cards_v1\" + \"lemma_prep_-_tfidf\" + \"closest-50\" + \"kmeans_COP-10c\", best to reach 100% of v-measure (cf. efficiency study)\n",
    "            \"bank_cards_v1_-_settings_2_exhaustive\",  # \"bank_cards_v1\" + \"lemma_prep_-_tfidf\" + \"in_same-50\" + \"kmeans_COP-10c\", best to reach annotation completeness (cf. efficiency study)\n",
    "            \"bank_cards_v1_-_settings_3_favorite\",  # \"bank_cards_v1\" + \"simple_prep_-_tfidf\" + \"closest-50\" + \"kmeans_COP-10c\", choice of author (cf. cost study)\n",
    "            \"bank_cards_v1\",  # Mean.\n",
    "            \"bank_cards_v1_-_simple_tfidf_kmeans\",  # Mean.\n",
    "            \"bank_cards_v1_-_simple_tfidf_kmeans_random\",  # \"bank_cards_v1\" + \"simple_prep_-_tfidf\" + \"random-50\" + \"kmeans_COP-10c\", choice of author with random\n",
    "            \"bank_cards_v1_-_simple_tfidf_kmeans_same\",  # \"bank_cards_v1\" + \"simple_prep_-_tfidf\" + \"in_same-50\" + \"kmeans_COP-10c\", choice of author with random in same cluster\n",
    "            \"bank_cards_v1_-_simple_tfidf_kmeans_farthest\",  # \"bank_cards_v1\" + \"simple_prep_-_tfidf\" + \"farthest-50\" + \"kmeans_COP-10c\", choice of author with farthest in same cluster\n",
    "            \"bank_cards_v1_-_simple_tfidf_kmeans_closest\",  # \"bank_cards_v1\" + \"simple_prep_-_tfidf\" + \"closest-50\" + \"kmeans_COP-10c\", choice of author with closest in different clusters\n",
    "        ]\n",
    "    )\n",
    "]\n",
    "print(\"There are\", \"`\" + str(len(LIST_OF_TASKS)) + \"`\", \"implementations to analyze.\")"
   ]
  },
  {
   "cell_type": "markdown",
   "id": "ff899f61",
   "metadata": {},
   "source": [
    "Create one folder per implementation to analyze."
   ]
  },
  {
   "cell_type": "code",
   "execution_count": null,
   "id": "4e806de5",
   "metadata": {},
   "outputs": [],
   "source": [
    "for task in LIST_OF_TASKS:\n",
    "    \n",
    "    # If folder exists: continue.\n",
    "    if os.path.isdir(\"../experiments/\" + task[\"implementation\"]):\n",
    "        continue\n",
    "    \n",
    "    # Create folder for analyses.\n",
    "    os.mkdir(\"../experiments/\" + task[\"implementation\"])\n",
    "    \n",
    "    # Copy data.\n",
    "    for experiment in task[\"experiments\"]:\n",
    "        with open(\"../previous/\" + task[\"implementation\"] + \"/\" + experiment, \"r\") as file_previous_results_r:\n",
    "            previous_results = json.load(file_previous_results_r)\n",
    "        with open(\"../experiments/\" + task[\"implementation\"] + \"/previous_results___\" + experiment, \"w\") as file_previous_results_w:\n",
    "            json.dump(\n",
    "                previous_results,\n",
    "                file_previous_results_w\n",
    "            )"
   ]
  },
  {
   "cell_type": "markdown",
   "id": "7628bcc4",
   "metadata": {},
   "source": [
    "------------------------------\n",
    "## 3. START ANALYSES"
   ]
  },
  {
   "cell_type": "markdown",
   "id": "ff0fd661",
   "metadata": {},
   "source": [
    "----------\n",
    "### 3.1. Analyze annotation agreement score between annotator and previous clustering."
   ]
  },
  {
   "cell_type": "markdown",
   "id": "80dc0852",
   "metadata": {},
   "source": [
    "Define annotation agreement score."
   ]
  },
  {
   "cell_type": "code",
   "execution_count": null,
   "id": "6debd577",
   "metadata": {},
   "outputs": [],
   "source": [
    "import pandas as pd\n",
    "from annotation_agreement_score import compute_annotation_agreement_score, display_annotation_agreement_score"
   ]
  },
  {
   "cell_type": "markdown",
   "id": "b262bcb0",
   "metadata": {},
   "source": [
    "Compute all annotation agreement scores."
   ]
  },
  {
   "cell_type": "code",
   "execution_count": null,
   "id": "7fb5b0bd",
   "metadata": {},
   "outputs": [],
   "source": [
    "# For each implementation.\n",
    "for task in LIST_OF_TASKS:\n",
    "    print(\"IMPLEMENTATION:\", task[\"implementation\"])\n",
    "    \n",
    "    # For each experiments.\n",
    "    for experiment in task[\"experiments\"]:\n",
    "        print(\"    \", \"experiment:\", experiment)\n",
    "    \n",
    "        # If folder exists: continue.\n",
    "        if os.path.exists(\"../experiments/\" + task[\"implementation\"] + \"/annotation_agreement_score___\" + experiment):\n",
    "            continue\n",
    "        \n",
    "        # Load data\n",
    "        with open(\"../experiments/\" + task[\"implementation\"] + \"/previous_results___\" + experiment, \"r\") as file_experiment_data_r:\n",
    "            experiment_data: Dict[str, Any] = json.load(file_experiment_data_r)\n",
    "        dict_of_constraints_annotations: Dict[str, List[Tuple[str, str, str]]] = experiment_data[\"dict_of_constraints_annotations\"]\n",
    "        dict_of_clustering_results: Dict[str, Dict[str, str]] = experiment_data[\"dict_of_clustering_results\"]\n",
    "            \n",
    "        # Compute annotation agreement score for each iteration.\n",
    "        annotation_agreement_score_evolution: Dict[str, float] = {}\n",
    "        previous_iteration: Optional[str] = None\n",
    "        for iteration in dict_of_constraints_annotations.keys():\n",
    "            # Compute annotation agreement score. No annotation in iteration \"0000\", so no agreement score to compure.\n",
    "            if iteration != \"0000\":\n",
    "                annotation_agreement_score_evolution[iteration] = compute_annotation_agreement_score(\n",
    "                    clustering=dict_of_clustering_results[previous_iteration],\n",
    "                    annotations=dict_of_constraints_annotations[iteration],\n",
    "                )\n",
    "            # Update temporary variables.\n",
    "            previous_iteration = iteration\n",
    "        \n",
    "        # Store results.\n",
    "        with open(\"../experiments/\" + task[\"implementation\"] + \"/annotation_agreement_score___\" + experiment, \"w\") as file_annotation_agreement_score_w:\n",
    "            json.dump(\n",
    "                annotation_agreement_score_evolution,\n",
    "                file_annotation_agreement_score_w,\n",
    "            )"
   ]
  },
  {
   "cell_type": "markdown",
   "id": "7eb7485f",
   "metadata": {},
   "source": [
    "Display annotation agreement score evolution in a graph."
   ]
  },
  {
   "cell_type": "code",
   "execution_count": null,
   "id": "061af040",
   "metadata": {},
   "outputs": [],
   "source": [
    "config_annotation_agreement_score = {\n",
    "    \"bank_cards_v1_-_settings_0_partial\": {\n",
    "        \"plot_label\": \"Accord annotations/clustering moyen des tentatives\\nayant le meilleur paramétrage moyen pour atteindre\\nune annotation partielle (90% de v-measure).\",\n",
    "        \"plot_groundtruth_label\": \"Similarité moyenne entre le clustering et la vérité terrain\",\n",
    "        \"plot_color\": \"green\",\n",
    "        \"legend_loc\": \"lower right\",\n",
    "        \"graph_filename\": \"etude-rentabilite-accord-annotation-clustering-annotation-partielle.png\",\n",
    "    },  # best to reach 90% of v-measure (cf. efficiency study)\n",
    "    \"bank_cards_v1_-_settings_1_sufficient\": {\n",
    "        \"plot_label\": \"Accord annotations/clustering moyen des tentatives\\nayant le meilleur paramétrage moyen pour atteindre\\nune annotation suffisante (100% de v-measure).\",\n",
    "        \"plot_groundtruth_label\": \"Similarité moyenne entre le clustering et la vérité terrain\",\n",
    "        \"plot_color\": \"blue\",\n",
    "        \"legend_loc\": \"lower right\",\n",
    "        \"graph_filename\": \"etude-rentabilite-accord-annotation-clustering-annotation-suffisante.png\",\n",
    "    },  # best to reach 100% of v-measure (cf. efficiency study)\n",
    "    \"bank_cards_v1_-_settings_2_exhaustive\": {\n",
    "        \"plot_label\": \"Accord annotations/clustering moyen des tentatives\\nayant le meilleur paramétrage moyen pour atteindre\\nune annotation exhaustive (toutes les contraintes).\",\n",
    "        \"plot_groundtruth_label\": \"Similarité moyenne entre le clustering et la vérité terrain\",\n",
    "        \"plot_color\": \"red\",\n",
    "        \"legend_loc\": \"lower right\",\n",
    "        \"graph_filename\": \"etude-rentabilite-accord-annotation-clustering-annotation-exhaustive.png\",\n",
    "    },  # best to reach annotation completeness (cf. efficiency study)\n",
    "    \"bank_cards_v1_-_settings_3_favorite\": {\n",
    "        \"plot_label\": \"Accord annotations/clustering moyen des tentatives\\nayant notre paramétrage favori pour atteindre\\n90% de v-measure avec un coût global minimal.\",\n",
    "        \"plot_groundtruth_label\": \"Similarité moyenne entre le clustering et la vérité terrain\",\n",
    "        \"plot_color\": \"gold\",\n",
    "        \"legend_loc\": \"lower right\",\n",
    "        \"graph_filename\": \"etude-rentabilite-accord-annotation-clustering-annotation-favori.png\",\n",
    "    },  # choice of author (cf. cost study)\n",
    "    \"bank_cards_v1\": {\n",
    "        \"plot_label\": \"Accord annotations/clustering moyen des tentatives.\",\n",
    "        \"plot_groundtruth_label\": \"Similarité moyenne entre le clustering et la vérité terrain\",\n",
    "        \"plot_color\": \"black\",\n",
    "        \"legend_loc\": \"lower right\",\n",
    "        \"graph_filename\": \"etude-rentabilite-accord-annotation-clustering-moyen.png\",\n",
    "    },  # Mean.\n",
    "    \"bank_cards_v1_-_simple_tfidf_kmeans\": {\n",
    "        \"plot_label\": \"Accord annotations/clustering moyen des tentatives\\navec un clustering 'clust.kmeans.cop'.\",\n",
    "        \"plot_groundtruth_label\": \"Similarité moyenne entre le clustering et la vérité terrain\",\n",
    "        \"plot_color\": \"orange\",\n",
    "        \"legend_loc\": \"lower right\",\n",
    "        \"graph_filename\": \"etude-rentabilite-accord-annotation-clustering-annotation-favori-with-kmeans.png\",\n",
    "    },  # Mean.\n",
    "    \"bank_cards_v1_-_simple_tfidf_kmeans_random\": {\n",
    "        \"plot_label\": \"Accord annotations/clustering moyen des tentatives\\navec une sélection 'samp.rand.full'.\",\n",
    "        \"plot_groundtruth_label\": \"Similarité moyenne entre le clustering et la vérité terrain\",\n",
    "        \"plot_color\": \"orange\",\n",
    "        \"legend_loc\": \"lower right\",\n",
    "        \"graph_filename\": \"etude-rentabilite-accord-annotation-clustering-annotation-favori-with-random.png\",\n",
    "    },  # choice of author with random\n",
    "    \"bank_cards_v1_-_simple_tfidf_kmeans_same\": {\n",
    "        \"plot_label\": \"Accord annotations/clustering moyen des tentatives\\navec une sélection 'samp.rand.same'.\",\n",
    "        \"plot_groundtruth_label\": \"Similarité moyenne entre le clustering et la vérité terrain\",\n",
    "        \"plot_color\": \"orange\",\n",
    "        \"legend_loc\": \"lower right\",\n",
    "        \"graph_filename\": \"etude-rentabilite-accord-annotation-clustering-annotation-favori-with-in-same.png\",\n",
    "    },  # choice of author with random in same cluster\n",
    "    \"bank_cards_v1_-_simple_tfidf_kmeans_farthest\": {\n",
    "        \"plot_label\": \"Accord annotations/clustering moyen des tentatives\\navec une sélection 'samp.farthest.same'.\",\n",
    "        \"plot_groundtruth_label\": \"Similarité moyenne entre le clustering et la vérité terrain\",\n",
    "        \"plot_color\": \"orange\",\n",
    "        \"legend_loc\": \"lower right\",\n",
    "        \"graph_filename\": \"etude-rentabilite-accord-annotation-clustering-annotation-favori-with-farthest.png\",\n",
    "    },  # choice of author with farthest in same cluster\n",
    "    \"bank_cards_v1_-_simple_tfidf_kmeans_closest\": {\n",
    "        \"plot_label\": \"Accord annotations/clustering moyen des tentatives\\navec une sélection 'samp.closest.diff'.\",\n",
    "        \"plot_groundtruth_label\": \"Similarité moyenne entre le clustering et la vérité terrain\",\n",
    "        \"plot_color\": \"orange\",\n",
    "        \"legend_loc\": \"lower right\",\n",
    "        \"graph_filename\": \"etude-rentabilite-accord-annotation-clustering-annotation-favori-with-closest.png\",\n",
    "    },  # choice of author with closest in different clusters\n",
    "}"
   ]
  },
  {
   "cell_type": "code",
   "execution_count": null,
   "id": "15a57114",
   "metadata": {
    "scrolled": true
   },
   "outputs": [],
   "source": [
    "# For each implementation.\n",
    "for task in LIST_OF_TASKS:\n",
    "    print(\"IMPLEMENTATION:\", task[\"implementation\"], \"\\n    (\", config_annotation_agreement_score[task[\"implementation\"]][\"graph_filename\"], \")\")\n",
    "    display_annotation_agreement_score(\n",
    "        implementation=task[\"implementation\"],\n",
    "        list_of_experiments=task[\"experiments\"],\n",
    "        list_of_iterations=[str(i).zfill(4) for i in range(1, 50)],\n",
    "        plot_label=config_annotation_agreement_score[task[\"implementation\"]][\"plot_label\"],\n",
    "        plot_groundtruth_label=config_annotation_agreement_score[task[\"implementation\"]][\"plot_groundtruth_label\"],\n",
    "        plot_color=config_annotation_agreement_score[task[\"implementation\"]][\"plot_color\"],\n",
    "        legend_loc=config_annotation_agreement_score[task[\"implementation\"]][\"legend_loc\"],\n",
    "        graph_filename=config_annotation_agreement_score[task[\"implementation\"]][\"graph_filename\"],\n",
    "    )"
   ]
  },
  {
   "cell_type": "markdown",
   "id": "dd65ac3a",
   "metadata": {},
   "source": [
    "Compute correlation factor between agreement score and vmeasure."
   ]
  },
  {
   "cell_type": "code",
   "execution_count": null,
   "id": "26ab66f9",
   "metadata": {},
   "outputs": [],
   "source": [
    "# For each implementation.\n",
    "for task in LIST_OF_TASKS:\n",
    "    print(\"IMPLEMENTATION:\", task[\"implementation\"], end=\": \")\n",
    "    \n",
    "    # Initialize dataframe to store scores.\n",
    "    df_scores: pd.DataFrame = pd.DataFrame(columns=[\"experiment\", \"iteration\", \"agreement_score\", \"v_measure\"])\n",
    "    \n",
    "    # For each experiments.\n",
    "    for experiment in task[\"experiments\"]:\n",
    "\n",
    "        # If folder exists: continue.\n",
    "        if not os.path.exists(\"../experiments/\" + task[\"implementation\"] + \"/annotation_agreement_score___\" + experiment):\n",
    "            continue\n",
    "        \n",
    "        # Load data.\n",
    "        with open(\"../experiments/\" + task[\"implementation\"] + \"/previous_results___\" + experiment, \"r\") as file_experiment_data_r:\n",
    "            experiment_data: Dict[str, Any] = json.load(file_experiment_data_r)\n",
    "        dict_of_clustering_performances: Dict[str, Dict[str, float]] = experiment_data[\"dict_of_clustering_performances\"]\n",
    "            \n",
    "        # Load results.\n",
    "        with open(\"../experiments/\" + task[\"implementation\"] + \"/annotation_agreement_score___\" + experiment, \"r\") as file_annotation_agreement_score_r:\n",
    "            annotation_agreement_score_evolution: Dict[str, float] = json.load(file_annotation_agreement_score_r)\n",
    "        \n",
    "        # Add scores.\n",
    "        for iteration in annotation_agreement_score_evolution.keys():\n",
    "            df_scores = df_scores.append(\n",
    "                {\n",
    "                    \"experiment\": experiment,\n",
    "                    \"iteration\": iteration,\n",
    "                    \"agreement_score\": annotation_agreement_score_evolution[iteration],\n",
    "                    \"v_measure\": dict_of_clustering_performances[iteration][\"v_measure\"],\n",
    "                },\n",
    "                ignore_index=True,\n",
    "            )\n",
    "    \n",
    "    # Compute correlation.\n",
    "    correlation: pd.DataFrame = df_scores.corr()[\"agreement_score\"][\"v_measure\"]\n",
    "    print(\"r={0:.2f} ; r^2={1:.2f}\".format(correlation, correlation**2)"
   ]
  },
  {
   "cell_type": "markdown",
   "id": "15d19b43",
   "metadata": {},
   "source": [
    "----------\n",
    "### 3.2. Analyze clustering similarity."
   ]
  },
  {
   "cell_type": "markdown",
   "id": "4ec02fda",
   "metadata": {},
   "source": [
    "Load Python dependencies."
   ]
  },
  {
   "cell_type": "code",
   "execution_count": null,
   "id": "a1cc44cf",
   "metadata": {},
   "outputs": [],
   "source": [
    "import pandas as pd\n",
    "from clustering_similarity import compute_clustering_similarity, display_clustering_similarity"
   ]
  },
  {
   "cell_type": "markdown",
   "id": "fdcd05b5",
   "metadata": {},
   "source": [
    "Compute clustering similarity."
   ]
  },
  {
   "cell_type": "code",
   "execution_count": null,
   "id": "6503b133",
   "metadata": {
    "scrolled": true
   },
   "outputs": [],
   "source": [
    "# For each implementation.\n",
    "for task in LIST_OF_TASKS:\n",
    "    print(\"IMPLEMENTATION:\", task[\"implementation\"])\n",
    "    \n",
    "    # For each experiments.\n",
    "    for experiment in task[\"experiments\"]:\n",
    "        print(\"    \", \"experiment:\", experiment)\n",
    "    \n",
    "        # If folder exists: continue.\n",
    "        if os.path.exists(\"../experiments/\" + task[\"implementation\"] + \"/clustering_similarity___\" + experiment):\n",
    "            continue\n",
    "        \n",
    "        # Load data.\n",
    "        with open(\"../experiments/\" + task[\"implementation\"] + \"/previous_results___\" + experiment, \"r\") as file_experiment_data_r:\n",
    "            experiment_data: Dict[str, Any] = json.load(file_experiment_data_r)\n",
    "        dict_of_clustering_results: Dict[str, Dict[str, str]] = experiment_data[\"dict_of_clustering_results\"]\n",
    "            \n",
    "        # Compute clustering similarity moving average.\n",
    "        clustering_similarity_evolution: Dict[str, Dict[str, float]] = compute_clustering_similarity(\n",
    "            dict_of_clustering_results=dict_of_clustering_results,\n",
    "            short_average=2,\n",
    "            long_average=4,\n",
    "        )\n",
    "        \n",
    "        # Store results.\n",
    "        with open(\"../experiments/\" + task[\"implementation\"] + \"/clustering_similarity___\" + experiment, \"w\") as file_clustering_similarity_w:\n",
    "            json.dump(\n",
    "                clustering_similarity_evolution,\n",
    "                file_clustering_similarity_w,\n",
    "            )"
   ]
  },
  {
   "cell_type": "markdown",
   "id": "637b7bd7",
   "metadata": {},
   "source": [
    "Display clustering similarity in a graph."
   ]
  },
  {
   "cell_type": "code",
   "execution_count": null,
   "id": "6e47153c",
   "metadata": {},
   "outputs": [],
   "source": [
    "config_clustering_similarity = {\n",
    "    \"bank_cards_v1_-_settings_0_partial\": {\n",
    "        \"plot_label\": \"Différence moyenne entre deux itérations de clustering\\navec le meilleur paramétrage moyen pour atteindre\\nune annotation partielle (90% de v-measure).\",\n",
    "        \"plot_groundtruth_label\": \"Similarité moyenne entre le clustering et la vérité terrain\",\n",
    "        \"plot_color\": \"green\",\n",
    "        \"legend_loc\": \"center right\",\n",
    "        \"graph_filename\": \"etude-rentabilite-similarite-clustering-annotation-partielle.png\",\n",
    "    },  # best to reach 90% of v-measure (cf. efficiency study)\n",
    "    \"bank_cards_v1_-_settings_1_sufficient\": {\n",
    "        \"plot_label\": \"Différence moyenne entre deux itérations de clustering\\navec le meilleur paramétrage moyen pour atteindre\\nune annotation suffisante (100% de v-measure).\",\n",
    "        \"plot_groundtruth_label\": \"Similarité moyenne entre le clustering et la vérité terrain\",\n",
    "        \"plot_color\": \"blue\",\n",
    "        \"legend_loc\": \"center right\",\n",
    "        \"graph_filename\": \"etude-rentabilite-similarite-clustering-annotation-suffisante.png\",\n",
    "    },  # best to reach 100% of v-measure (cf. efficiency study)\n",
    "    \"bank_cards_v1_-_settings_2_exhaustive\": {\n",
    "        \"plot_label\": \"Différence moyenne entre deux itérations de clustering\\navec le meilleur paramétrage moyen pour atteindre\\nune annotation exhaustive (toutes les contraintes).\",\n",
    "        \"plot_groundtruth_label\": \"Similarité moyenne entre le clustering et la vérité terrain\",\n",
    "        \"plot_color\": \"red\",\n",
    "        \"legend_loc\": \"center right\",\n",
    "        \"graph_filename\": \"etude-rentabilite-similarite-clustering-annotation-exhaustive.png\",\n",
    "    },  # best to reach annotation completeness (cf. efficiency study)\n",
    "    \"bank_cards_v1_-_settings_3_favorite\": {\n",
    "        \"plot_label\": \"Différence moyenne entre deux itérations de clustering\\navec notre paramétrage favori pour atteindre\\n90% de v-measure avec un coût global minimal.\",\n",
    "        \"plot_groundtruth_label\": \"Similarité moyenne entre le clustering et la vérité terrain\",\n",
    "        \"plot_color\": \"gold\",\n",
    "        \"legend_loc\": \"center right\",\n",
    "        \"graph_filename\": \"etude-rentabilite-similarite-clustering-annotation-favori.png\",\n",
    "    },  # choice of author (cf. cost study)\n",
    "    \"bank_cards_v1\": {\n",
    "        \"plot_label\": \"Différence moyenne entre deux itérations de clustering.\",\n",
    "        \"plot_groundtruth_label\": \"Similarité moyenne entre le clustering et la vérité terrain\",\n",
    "        \"plot_color\": \"black\",\n",
    "        \"legend_loc\": \"upper left\",\n",
    "        \"graph_filename\": \"etude-rentabilite-similarite-clustering-moyen.png\",\n",
    "    },  # Mean.\n",
    "    \"bank_cards_v1_-_simple_tfidf_kmeans\": {\n",
    "        \"plot_label\": \"Différence moyenne entre deux itérations de clustering\\navec un clustering 'clust.kmeans.cop'.\",\n",
    "        \"plot_groundtruth_label\": \"Similarité moyenne entre le clustering et la vérité terrain\",\n",
    "        \"plot_color\": \"orange\",\n",
    "        \"legend_loc\": \"upper left\",\n",
    "        \"graph_filename\": \"etude-rentabilite-similarite-clustering-annotation-favori-with-kmeans.png\",\n",
    "    },  # Mean.\n",
    "    \"bank_cards_v1_-_simple_tfidf_kmeans_random\": {\n",
    "        \"plot_label\": \"Différence moyenne entre deux itérations de clustering\\navec une sélection 'samp.rand.full'.\",\n",
    "        \"plot_groundtruth_label\": \"Similarité moyenne entre le clustering et la vérité terrain\",\n",
    "        \"plot_color\": \"orange\",\n",
    "        \"legend_loc\": \"upper left\",\n",
    "        \"graph_filename\": \"etude-rentabilite-similarite-clustering-annotation-favori-with-random.png\",\n",
    "    },  # choice of author with random\n",
    "    \"bank_cards_v1_-_simple_tfidf_kmeans_same\": {\n",
    "        \"plot_label\": \"Différence moyenne entre deux itérations de clustering\\navec une sélection 'samp.rand.same'.\",\n",
    "        \"plot_groundtruth_label\": \"Similarité moyenne entre le clustering et la vérité terrain\",\n",
    "        \"plot_color\": \"orange\",\n",
    "        \"legend_loc\": \"upper left\",\n",
    "        \"graph_filename\": \"etude-rentabilite-similarite-clustering-annotation-favori-with-in-same.png\",\n",
    "    },  # choice of author with random in same cluster\n",
    "    \"bank_cards_v1_-_simple_tfidf_kmeans_farthest\": {\n",
    "        \"plot_label\": \"Différence moyenne entre deux itérations de clustering\\navec une sélection 'samp.farthest.same'.\",\n",
    "        \"plot_groundtruth_label\": \"Similarité moyenne entre le clustering et la vérité terrain\",\n",
    "        \"plot_color\": \"orange\",\n",
    "        \"legend_loc\": \"upper left\",\n",
    "        \"graph_filename\": \"etude-rentabilite-similarite-clustering-annotation-favori-with-farthest.png\",\n",
    "    },  # choice of author with farthest in same cluster\n",
    "    \"bank_cards_v1_-_simple_tfidf_kmeans_closest\": {\n",
    "        \"plot_label\": \"Différence moyenne entre deux itérations de clustering\\navec une sélection 'samp.closest.diff'.\",\n",
    "        \"plot_groundtruth_label\": \"Similarité moyenne entre le clustering et la vérité terrain\",\n",
    "        \"plot_color\": \"orange\",\n",
    "        \"legend_loc\": \"upper left\",\n",
    "        \"graph_filename\": \"etude-rentabilite-similarite-clustering-annotation-favori-with-closest.png\",\n",
    "    },  # choice of author with closest in different clusters\n",
    "}"
   ]
  },
  {
   "cell_type": "code",
   "execution_count": null,
   "id": "a487ebc3",
   "metadata": {
    "scrolled": true
   },
   "outputs": [],
   "source": [
    "# For each implementation.\n",
    "for task in LIST_OF_TASKS:\n",
    "    print(\"IMPLEMENTATION:\", task[\"implementation\"], \"\\n    (\", config_clustering_similarity[task[\"implementation\"]][\"graph_filename\"], \")\")\n",
    "    display_clustering_similarity(\n",
    "        implementation=task[\"implementation\"],\n",
    "        list_of_experiments=task[\"experiments\"],\n",
    "        list_of_iterations=[str(i).zfill(4) for i in range(1, 50)],\n",
    "        plot_label=config_clustering_similarity[task[\"implementation\"]][\"plot_label\"],\n",
    "        plot_groundtruth_label=config_clustering_similarity[task[\"implementation\"]][\"plot_groundtruth_label\"],\n",
    "        plot_color=config_clustering_similarity[task[\"implementation\"]][\"plot_color\"],\n",
    "        legend_loc=config_clustering_similarity[task[\"implementation\"]][\"legend_loc\"],\n",
    "        graph_filename=config_clustering_similarity[task[\"implementation\"]][\"graph_filename\"],\n",
    "    )"
   ]
  },
  {
   "cell_type": "markdown",
   "id": "e68875dd",
   "metadata": {},
   "source": [
    "Compute correlation factor between clustering similarity and vmeasure."
   ]
  },
  {
   "cell_type": "code",
   "execution_count": null,
   "id": "b1acef6e",
   "metadata": {},
   "outputs": [],
   "source": [
    "# For each implementation.\n",
    "for task in LIST_OF_TASKS:\n",
    "    print(\"IMPLEMENTATION:\", task[\"implementation\"], end=\": \")\n",
    "    \n",
    "    # Initialize dataframe to store scores.\n",
    "    df_scores: pd.DataFrame = pd.DataFrame(columns=[\"experiment\", \"iteration\", \"clustering_difference\", \"v_measure\"])\n",
    "    \n",
    "    # For each experiments.\n",
    "    for experiment in task[\"experiments\"]:\n",
    "\n",
    "        # If folder exists: continue.\n",
    "        if not os.path.exists(\"../experiments/\" + task[\"implementation\"] + \"/clustering_similarity___\" + experiment):\n",
    "            continue\n",
    "        \n",
    "        # Load data.\n",
    "        with open(\"../experiments/\" + task[\"implementation\"] + \"/previous_results___\" + experiment, \"r\") as file_experiment_data_r:\n",
    "            experiment_data: Dict[str, Any] = json.load(file_experiment_data_r)\n",
    "        dict_of_clustering_performances: Dict[str, Dict[str, float]] = experiment_data[\"dict_of_clustering_performances\"]\n",
    "            \n",
    "        # Load results.\n",
    "        with open(\"../experiments/\" + task[\"implementation\"] + \"/clustering_similarity___\" + experiment, \"r\") as file_clustering_similarity_r:\n",
    "            clustering_similarity_evolution: Dict[str, Dict[str, float]] = json.load(file_clustering_similarity_r)\n",
    "        \n",
    "        # Add scores.\n",
    "        for iteration in clustering_similarity_evolution[\"similarity\"].keys():\n",
    "            df_scores = df_scores.append(\n",
    "                {\n",
    "                    \"experiment\": experiment,\n",
    "                    \"iteration\": iteration,\n",
    "                    \"clustering_difference\": clustering_similarity_evolution[\"similarity\"][iteration],\n",
    "                    \"v_measure\": dict_of_clustering_performances[iteration][\"v_measure\"],\n",
    "                },\n",
    "                ignore_index=True,\n",
    "            )\n",
    "    \n",
    "    # Compute correlation.\n",
    "    correlation: pd.DataFrame = df_scores.corr()[\"clustering_difference\"][\"v_measure\"]\n",
    "    print(\"r={0:.2f} ; r^2={1:.2f}\".format(correlation, correlation**2))\n",
    "    break"
   ]
  }
 ],
 "metadata": {
  "kernelspec": {
   "display_name": "Python 3 (ipykernel)",
   "language": "python",
   "name": "python3"
  },
  "language_info": {
   "codemirror_mode": {
    "name": "ipython",
    "version": 3
   },
   "file_extension": ".py",
   "mimetype": "text/x-python",
   "name": "python",
   "nbconvert_exporter": "python",
   "pygments_lexer": "ipython3",
   "version": "3.8.0"
  }
 },
 "nbformat": 4,
 "nbformat_minor": 5
}
