{
 "cells": [
  {
   "cell_type": "code",
   "execution_count": null,
   "id": "ee325a8a",
   "metadata": {},
   "outputs": [],
   "source": [
    "import listing_envs\n",
    "from typing import Dict, List, Union\n",
    "import os\n",
    "import json"
   ]
  },
  {
   "cell_type": "markdown",
   "id": "72f5cc1e",
   "metadata": {},
   "source": [
    "Find experiments."
   ]
  },
  {
   "cell_type": "code",
   "execution_count": null,
   "id": "bfd6d24f",
   "metadata": {
    "scrolled": true
   },
   "outputs": [],
   "source": [
    "# Get list of experiment environments.\n",
    "LIST_OF_EXPERIMENT_ENVIRONMENTS: List[str] = listing_envs.get_list_of_constraints_selection_env_paths()\n",
    "print(\n",
    "    \"There are\",\n",
    "    \"`\" + str(len(LIST_OF_EXPERIMENT_ENVIRONMENTS)) + \"`\",\n",
    "    \"created experiment environments in `../experiments`\",\n",
    ")\n",
    "LIST_OF_TODO_EXPERIMENT_ENVIRONMENTS: List[str] = [\n",
    "    env\n",
    "    for env in LIST_OF_EXPERIMENT_ENVIRONMENTS\n",
    "    if not os.path.exists(env+\".done\")\n",
    "]\n",
    "print(\n",
    "    \"There are\",\n",
    "    \"`\" + str(len(LIST_OF_TODO_EXPERIMENT_ENVIRONMENTS)) + \"`\",\n",
    "    \"todo experiment environments in `../experiments`\",\n",
    ")\n",
    "LIST_OF_TODO_EXPERIMENT_ENVIRONMENTS"
   ]
  },
  {
   "cell_type": "markdown",
   "id": "88d4c3e9",
   "metadata": {},
   "source": [
    "List errors"
   ]
  },
  {
   "cell_type": "code",
   "execution_count": null,
   "id": "e00f1935",
   "metadata": {},
   "outputs": [],
   "source": [
    "errors = {\n",
    "    \"dict_of_clustering_performances.json\": [],\n",
    "    \"dict_of_clustering_results.json\": [],\n",
    "    \"dict_of_constraints_effective.json\": [],\n",
    "    \"dict_of_errors.json\": [],\n",
    "    \"dict_of_samplings.json\": [],\n",
    "}\n",
    "\n",
    "for file in errors:\n",
    "    for env in LIST_OF_EXPERIMENT_ENVIRONMENTS:\n",
    "        try:\n",
    "            with open(env + file, \"r\") as f:\n",
    "                json.load(f)\n",
    "        except:\n",
    "            errors[file].append(env)\n",
    "errors"
   ]
  },
  {
   "cell_type": "markdown",
   "id": "4f15ee13",
   "metadata": {},
   "source": [
    "Fix `dict_of_clustering_results.json`."
   ]
  },
  {
   "cell_type": "markdown",
   "id": "a0342a45",
   "metadata": {},
   "source": [
    "> (_manuel_)"
   ]
  },
  {
   "cell_type": "markdown",
   "id": "0203f095",
   "metadata": {},
   "source": [
    "Fix `dict_of_constraints_effective.json`."
   ]
  },
  {
   "cell_type": "markdown",
   "id": "8fade0eb",
   "metadata": {},
   "source": [
    "> (_manuel_)"
   ]
  },
  {
   "cell_type": "markdown",
   "id": "580609ff",
   "metadata": {},
   "source": [
    "Fix `dict_of_errors.json`."
   ]
  },
  {
   "cell_type": "code",
   "execution_count": null,
   "id": "b2864aad",
   "metadata": {},
   "outputs": [],
   "source": [
    "for env in errors[\"dict_of_errors.json\"]:\n",
    "    \n",
    "    with open(env + \"dict_of_constraints_effective.json\", \"r\") as fr:\n",
    "        dict_of_constraints_effective = json.load(fr)\n",
    "    new_errors = {\n",
    "        iteration: [\n",
    "            [constraint[0], constraint[1]]\n",
    "            for constraint in constraints_effective\n",
    "            if (\n",
    "                (not constraint[4] and constraint[3])  # not conflict ==> no fix ==> is error\n",
    "                or (constraint[4] and not constraint[3])  # conflict ==> fix ==> is not conflict\n",
    "            )\n",
    "        ]\n",
    "        for iteration, constraints_effective in dict_of_constraints_effective.items()\n",
    "    }\n",
    "    with open(env + \"dict_of_errors.json\", \"w\") as fw:\n",
    "        json.dump(new_errors, fw)"
   ]
  },
  {
   "cell_type": "markdown",
   "id": "297946f7",
   "metadata": {},
   "source": [
    "Fix `dict_of_samplings.json`."
   ]
  },
  {
   "cell_type": "code",
   "execution_count": null,
   "id": "44bc5461",
   "metadata": {},
   "outputs": [],
   "source": [
    "for env in errors[\"dict_of_samplings.json\"]:\n",
    "    \n",
    "    with open(env + \"dict_of_constraints_effective.json\", \"r\") as fr:\n",
    "        dict_of_constraints_effective = json.load(fr)\n",
    "    new_sampling = {\n",
    "        iteration: [\n",
    "            [constraint[0], constraint[1]]\n",
    "            for constraint in constraints_effective\n",
    "        ]\n",
    "        for iteration, constraints_effective in dict_of_constraints_effective.items()\n",
    "    }\n",
    "    with open(env + \"dict_of_samplings.json\", \"w\") as fw:\n",
    "        json.dump(new_sampling, fw)"
   ]
  },
  {
   "cell_type": "markdown",
   "id": "378b456f",
   "metadata": {},
   "source": [
    "Min-Max iterations."
   ]
  },
  {
   "cell_type": "code",
   "execution_count": null,
   "id": "ace4c5e6",
   "metadata": {},
   "outputs": [],
   "source": [
    "range_iterations = {}\n",
    "for env in LIST_OF_TODO_EXPERIMENT_ENVIRONMENTS:\n",
    "    range_iterations[env] = []\n",
    "    for file in errors: \n",
    "        try:\n",
    "            with open(env + file, \"r\") as f:\n",
    "                i = sorted(json.load(f).keys())[-1]\n",
    "                range_iterations[env].append(i)\n",
    "        except:\n",
    "            print(env+file)\n",
    "minmax_iterations = {\n",
    "    env: [\n",
    "        min(range_iterations[env]),\n",
    "        max(range_iterations[env])\n",
    "    ]\n",
    "    for env in LIST_OF_TODO_EXPERIMENT_ENVIRONMENTS\n",
    "}"
   ]
  },
  {
   "cell_type": "code",
   "execution_count": null,
   "id": "2a63b4b8",
   "metadata": {},
   "outputs": [],
   "source": [
    "for env in LIST_OF_TODO_EXPERIMENT_ENVIRONMENTS:\n",
    "    with open(env+\"dict_of_clustering_performances.json\", \"r\") as fr:\n",
    "        dict_of_clustering_performances = json.load(fr)\n",
    "    \n",
    "    new_dict_of_clustering_performances = {\n",
    "        k:v\n",
    "        for k,v in dict_of_clustering_performances.items()\n",
    "        if int(k) <= int(minmax_iterations[env][0])\n",
    "    }\n",
    "    with open(env+\"dict_of_clustering_performances.json\", \"w\") as fw:\n",
    "        json.dump(new_dict_of_clustering_performances, fw)"
   ]
  },
  {
   "cell_type": "code",
   "execution_count": null,
   "id": "8046e2b7",
   "metadata": {},
   "outputs": [],
   "source": []
  }
 ],
 "metadata": {
  "kernelspec": {
   "display_name": "Python 3 (ipykernel)",
   "language": "python",
   "name": "python3"
  },
  "language_info": {
   "codemirror_mode": {
    "name": "ipython",
    "version": 3
   },
   "file_extension": ".py",
   "mimetype": "text/x-python",
   "name": "python",
   "nbconvert_exporter": "python",
   "pygments_lexer": "ipython3",
   "version": "3.8.0"
  }
 },
 "nbformat": 4,
 "nbformat_minor": 5
}
