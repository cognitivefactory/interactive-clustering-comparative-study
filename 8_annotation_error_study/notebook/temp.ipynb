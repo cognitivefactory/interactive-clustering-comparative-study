{
 "cells": [
  {
   "cell_type": "markdown",
   "metadata": {},
   "source": [
    "------------------------------\n",
    "## 1. IMPORT PYTHON DEPENDENCIES"
   ]
  },
  {
   "cell_type": "code",
   "execution_count": null,
   "metadata": {},
   "outputs": [],
   "source": [
    "# Set ALL-PYPI-DEV as principal artifactory repository.\n",
    "! pip config --user set global.index-url \"https://repo-si.cm-cic.fr/artifactory/api/pypi/all-pypi-dev/simple/\"\n",
    "# Set CM-CIC.FR as a trusted host name for connection.\n",
    "! pip config --user set global.trusted-host \"repo-si.cm-cic.fr\""
   ]
  },
  {
   "cell_type": "code",
   "execution_count": null,
   "metadata": {
    "scrolled": true,
    "tags": []
   },
   "outputs": [],
   "source": [
    "! pip install \"cognitivefactory-interactive-clustering==0.5.4\"  # interactive clustering.\n",
    "! pip install \"fr-core-news-md==3.1.0\"  # spacy language model (the one you want, with version \"3.1\")\n",
    "! pip install pandas  # data management.\n",
    "! pip install openpyxl  # xlsx file management\n",
    "! pip install tqdm  # bar progress."
   ]
  },
  {
   "cell_type": "code",
   "execution_count": null,
   "metadata": {},
   "outputs": [],
   "source": [
    "import listing_envs\n",
    "from typing import Dict, List, Union\n",
    "import os\n",
    "import json"
   ]
  },
  {
   "cell_type": "markdown",
   "metadata": {},
   "source": [
    "------------------------------\n",
    "## 2. RUN ANNOTATION ERROR STUDY EXPERIMENTS"
   ]
  },
  {
   "cell_type": "markdown",
   "metadata": {},
   "source": [
    "Find all experiment environments."
   ]
  },
  {
   "cell_type": "code",
   "execution_count": null,
   "metadata": {
    "scrolled": true
   },
   "outputs": [],
   "source": [
    "# Get list of experiment environments.\n",
    "LIST_OF_EXPERIMENT_ENVIRONMENTS: List[str] = listing_envs.get_list_of_constraints_selection_env_paths()\n",
    "print(\n",
    "    \"There are\",\n",
    "    \"`\" + str(len(LIST_OF_EXPERIMENT_ENVIRONMENTS)) + \"`\",\n",
    "    \"created experiment environments in `../experiments`\",\n",
    ")\n",
    "LIST_OF_EXPERIMENT_ENVIRONMENTS"
   ]
  },
  {
   "cell_type": "markdown",
   "metadata": {},
   "source": [
    "Count already done experiment environments."
   ]
  },
  {
   "cell_type": "raw",
   "metadata": {
    "tags": []
   },
   "source": [
    "LIST_OF_TODO_EXPERIMENT_ENVIRONMENTS: List[str] = [\n",
    "    env\n",
    "    for env in LIST_OF_EXPERIMENT_ENVIRONMENTS\n",
    "    if not os.path.exists(env+\".done\")\n",
    "]\n",
    "print(\n",
    "    \"There are\",\n",
    "    \"`\" + str(len(LIST_OF_TODO_EXPERIMENT_ENVIRONMENTS)) + \"`\",\n",
    "    \"todo experiment environments in `../experiments`\",\n",
    ")\n",
    "LIST_OF_TODO_EXPERIMENT_ENVIRONMENTS"
   ]
  },
  {
   "cell_type": "markdown",
   "metadata": {},
   "source": [
    "Compute some statistics."
   ]
  },
  {
   "cell_type": "code",
   "execution_count": null,
   "metadata": {
    "scrolled": true,
    "tags": []
   },
   "outputs": [],
   "source": [
    "STATS = {\n",
    "    \"STILL_TODO\": 0,\n",
    "    \"DONE_VMEASURE\": 0,\n",
    "    \"DONE_COMPLETUDE\": 0,\n",
    "    \"DONE_MAX_CONSTRAINTS\": 0,\n",
    "}\n",
    "envs = []\n",
    "for env in LIST_OF_EXPERIMENT_ENVIRONMENTS:\n",
    "    if os.path.exists(env+\".done\"):\n",
    "        with open(env+\".done\", \"r\") as file_done:\n",
    "            done = json.load(file_done)\n",
    "        if done[\"MIN_VMEASURE\"] <= done[\"V_MEASURE\"]:\n",
    "            STATS[\"DONE_VMEASURE\"] += 1\n",
    "        elif done[\"COMPLETUDE\"]:\n",
    "            STATS[\"DONE_COMPLETUDE\"] += 1\n",
    "        else: # if done[\"MAX_NB_CONSTRAINTS\"] < done[\"PREVIOUS_NB_CONSTRAINTS\"]\n",
    "            STATS[\"DONE_MAX_CONSTRAINTS\"] += 1\n",
    "    else:\n",
    "        STATS[\"STILL_TODO\"] += 1\n",
    "        envs.append(env)\n",
    "STATS, len(envs), envs"
   ]
  },
  {
   "cell_type": "raw",
   "metadata": {},
   "source": [
    "# DELETE DONE STATUS\n",
    "for env in envs:\n",
    "    if os.path.exists(env+\".done\"):\n",
    "        os.remove(env+\".done\")"
   ]
  },
  {
   "cell_type": "raw",
   "metadata": {},
   "source": [
    "import shutil\n",
    "for env in envs:\n",
    "    if \"-rand_2-with_fix\" in env:\n",
    "        shutil.rmtree(env)"
   ]
  },
  {
   "cell_type": "raw",
   "metadata": {
    "tags": []
   },
   "source": [
    "# DELETE EMPTY list_of_error\n",
    "list_of_errors = listing_envs.get_list_of_error_env_paths()\n",
    "list_of_errors_empty = [\n",
    "    x\n",
    "    for x in list_of_errors\n",
    "    if x not in str(LIST_OF_EXPERIMENT_ENVIRONMENTS)\n",
    "]\n",
    "len(list_of_errors), len(list_of_errors_empty), list_of_errors_empty"
   ]
  },
  {
   "cell_type": "raw",
   "metadata": {},
   "source": [
    "import shutil\n",
    "for env in list_of_errors_empty:\n",
    "    shutil.rmtree(env)"
   ]
  },
  {
   "cell_type": "raw",
   "metadata": {},
   "source": [
    "# DELETE EMPTY list_of_error\n",
    "list_of_algorithms = listing_envs.get_list_of_algorithm_env_paths()\n",
    "list_of_algorithms_empty = [\n",
    "    x\n",
    "    for x in list_of_algorithms\n",
    "    if x not in str(LIST_OF_EXPERIMENT_ENVIRONMENTS)\n",
    "]\n",
    "len(list_of_algorithms), len(list_of_algorithms_empty), list_of_algorithms_empty"
   ]
  },
  {
   "cell_type": "raw",
   "metadata": {},
   "source": [
    "import shutil\n",
    "for env in list_of_algorithms_empty:\n",
    "    shutil.rmtree(env)"
   ]
  },
  {
   "cell_type": "markdown",
   "metadata": {},
   "source": [
    "------------------------------\n",
    "## NOTA BENE"
   ]
  },
  {
   "cell_type": "markdown",
   "metadata": {},
   "source": [
    "- ***Show the CPU usage***: `htop`\n",
    "- ***Show disk usage***: `du -sh -- *`"
   ]
  },
  {
   "cell_type": "markdown",
   "metadata": {},
   "source": [
    "- ***Zip results***: `tar -czf ../experiments.tar.gz ../experiments/`\n",
    "- ***Unzip results***: `tar -xzf ../experiments.tar.gz -C ../`"
   ]
  },
  {
   "cell_type": "code",
   "execution_count": null,
   "metadata": {},
   "outputs": [],
   "source": [
    "!tar -czf ../8_annotation_error_study-v4-bank_rand_1_20x.tar.gz ../experiments/"
   ]
  },
  {
   "cell_type": "code",
   "execution_count": null,
   "metadata": {},
   "outputs": [],
   "source": []
  }
 ],
 "metadata": {
  "kernelspec": {
   "display_name": "Python 3 (ipykernel)",
   "language": "python",
   "name": "python3"
  },
  "language_info": {
   "codemirror_mode": {
    "name": "ipython",
    "version": 3
   },
   "file_extension": ".py",
   "mimetype": "text/x-python",
   "name": "python",
   "nbconvert_exporter": "python",
   "pygments_lexer": "ipython3",
   "version": "3.8.0"
  }
 },
 "nbformat": 4,
 "nbformat_minor": 4
}
