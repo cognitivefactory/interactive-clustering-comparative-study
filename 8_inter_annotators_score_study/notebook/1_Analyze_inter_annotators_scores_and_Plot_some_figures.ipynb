{
 "cells": [
  {
   "cell_type": "markdown",
   "id": "38d5b24f",
   "metadata": {},
   "source": [
    "# ==== INTERACTIVE CLUSTERING : INTER-ANNOTATORS SCORE STUDY ====\n",
    "> ### Stage 1 : Analyze inter-annotators score and Plot some figures."
   ]
  },
  {
   "cell_type": "markdown",
   "id": "272a43a3",
   "metadata": {},
   "source": [
    "-----"
   ]
  },
  {
   "cell_type": "markdown",
   "id": "69a26800",
   "metadata": {},
   "source": [
    "## READ-ME BEFORE RUNNING"
   ]
  },
  {
   "cell_type": "markdown",
   "id": "011d6d2a",
   "metadata": {},
   "source": [
    "### Quick Description\n",
    "\n",
    "This notebook is **aimed at analyze inter-annotators scores on interactive clustering annotation experiments**.\n",
    "- Environments are represented by subdirectories in the `/experiments` folder.\n",
    "- Each subdirectories of `/experiments` folder represents an annotation experiment with several annotators."
   ]
  },
  {
   "cell_type": "markdown",
   "id": "38fb0f5d",
   "metadata": {},
   "source": [
    "### Description each steps\n",
    "\n",
    "First of all, **load constraints annotated** from JSON files.\n",
    "\n",
    "Then, **compute a contengency matrix** with groundtruth and annotators."
   ]
  },
  {
   "cell_type": "markdown",
   "id": "4f1cd89d",
   "metadata": {},
   "source": [
    "-----"
   ]
  },
  {
   "cell_type": "markdown",
   "id": "07718de9",
   "metadata": {},
   "source": [
    "## 1. IMPORT PYTHON DEPENDENCIES"
   ]
  },
  {
   "cell_type": "code",
   "execution_count": 19,
   "id": "3f876a4f",
   "metadata": {},
   "outputs": [],
   "source": [
    "from typing import Any, Dict, List, Optional, Tuple, Union\n",
    "import json\n",
    "import numpy as np\n",
    "import openpyxl\n",
    "import pandas as pd\n",
    "from matplotlib import pyplot as plt\n",
    "from matplotlib.figure import Figure\n",
    "import matplotlib.cm as cm\n",
    "from matplotlib.colors import Normalize"
   ]
  },
  {
   "cell_type": "markdown",
   "id": "04afbf86",
   "metadata": {},
   "source": [
    "-----"
   ]
  },
  {
   "cell_type": "markdown",
   "id": "d4df5fdb",
   "metadata": {},
   "source": [
    "## 2. LOAD DATA"
   ]
  },
  {
   "cell_type": "markdown",
   "id": "b30c7141",
   "metadata": {},
   "source": [
    "### 2.1. Load groundtruth from JSON file."
   ]
  },
  {
   "cell_type": "code",
   "execution_count": 24,
   "id": "7430c693",
   "metadata": {
    "scrolled": true
   },
   "outputs": [],
   "source": [
    "with open(\"../experiments/mlsum_fr_train_subset_v1.0.0.schild/texts.json\", \"r\") as fr_texts:\n",
    "    dict_of_texts: Dict[str, Dict[str, Union[str,bool]]] = json.load(fr_texts)"
   ]
  },
  {
   "cell_type": "code",
   "execution_count": 129,
   "id": "7646000f",
   "metadata": {},
   "outputs": [],
   "source": [
    "with open(\"../experiments/mlsum_fr_train_subset_v1.0.0.schild/dict_of_true_intents.json\", \"r\") as fr_intents:\n",
    "    dict_of_true_intents: Dict[str, str] = json.load(fr_intents)"
   ]
  },
  {
   "cell_type": "markdown",
   "id": "32cc8374",
   "metadata": {},
   "source": [
    "### 2.2. Load constraints annotated from JSON file."
   ]
  },
  {
   "cell_type": "code",
   "execution_count": 130,
   "id": "51a4584a",
   "metadata": {},
   "outputs": [],
   "source": [
    "# Case 1 : 1000 random annotations with 14 annotators.\n",
    "with open(\"../experiments/mlsum_fr_train_subset_v1.0.0.schild/constraints_-_template_to_annotate_1.json\", \"r\") as fr_constraints_sampled:\n",
    "    dict_of_constraints_sampled: Dict[str, str] = json.load(fr_constraints_sampled)\n",
    "list_of_annotators: List[str] = [\"1.1\", \"2.1\", \"3.1\", \"4.1\", \"5.1\", \"6.1\", \"7.1\", \"8.1\", \"9.1\", \"10.1\", \"11.1\", \"12.1\", \"13.1\", \"14.1\"]"
   ]
  },
  {
   "cell_type": "code",
   "execution_count": 131,
   "id": "9cad85b2",
   "metadata": {},
   "outputs": [],
   "source": [
    "# Case 2 : 400 semi-random annotations (200 MUST_LINK, 200 CANNOT_LINK) with 4 annotators.\n",
    "with open(\"../experiments/mlsum_fr_train_subset_v1.0.0.schild/constraints_-_template_to_annotate_2.json\", \"r\") as fr_constraints_sampled:\n",
    "    dict_of_constraints_sampled: Dict[str, str] = json.load(fr_constraints_sampled)\n",
    "list_of_annotators: List[str] = [\"1.2\", \"7.2\", \"9.2\", \"12.2\"]"
   ]
  },
  {
   "cell_type": "code",
   "execution_count": 132,
   "id": "8e224c95",
   "metadata": {},
   "outputs": [],
   "source": [
    "dict_of_constraints: Dict[str, Dict[str, Any]]= {}\n",
    "# Add groundtruth.\n",
    "dict_of_constraints[\"groundtruth\"] = {}\n",
    "for constraint_id, constraint in dict_of_constraints_sampled.items():\n",
    "    text_id1: str = constraint[\"data\"][\"id_1\"]\n",
    "    label_1: str = dict_of_true_intents[text_id1]\n",
    "    text_id2: str = constraint[\"data\"][\"id_2\"]\n",
    "    label_2: str = dict_of_true_intents[text_id2]\n",
    "    constraints_type: bool = (\n",
    "        \"MUST_LINK\"\n",
    "        if label_1 == label_2\n",
    "        else \"CANNOT_LINK\"\n",
    "    )\n",
    "    dict_of_constraints[\"groundtruth\"][constraint_id] = constraints_type\n",
    "\n",
    "# Add annotations.\n",
    "for annotator in list_of_annotators:\n",
    "    dict_of_constraints[annotator] = {}\n",
    "    with open(\"../experiments/mlsum_fr_train_subset_v1.0.0.schild/constraints_-_{0}.json\".format(annotator), \"r\") as fr_constraints_annotated:\n",
    "        constraints_annotated: Dict[str, Any] = json.load(fr_constraints_annotated)\n",
    "        for constraint_id, constraint in constraints_annotated.items():\n",
    "            if constraint_id in dict_of_constraints_sampled.keys():\n",
    "                dict_of_constraints[annotator][constraint_id] = constraint[\"constraint_type\"]"
   ]
  },
  {
   "cell_type": "markdown",
   "id": "33fdccf2",
   "metadata": {},
   "source": [
    "-----"
   ]
  },
  {
   "cell_type": "markdown",
   "id": "dbdcdc40",
   "metadata": {},
   "source": [
    "## 3. COMPUTE INTER-ANNOTATORS SCORE"
   ]
  },
  {
   "cell_type": "markdown",
   "id": "740aa0f9",
   "metadata": {},
   "source": [
    "### 3.1. Compute contingency table of annotators agreements."
   ]
  },
  {
   "cell_type": "code",
   "execution_count": 133,
   "id": "563c791d",
   "metadata": {},
   "outputs": [
    {
     "data": {
      "text/html": [
       "<div>\n",
       "<style scoped>\n",
       "    .dataframe tbody tr th:only-of-type {\n",
       "        vertical-align: middle;\n",
       "    }\n",
       "\n",
       "    .dataframe tbody tr th {\n",
       "        vertical-align: top;\n",
       "    }\n",
       "\n",
       "    .dataframe thead th {\n",
       "        text-align: right;\n",
       "    }\n",
       "</style>\n",
       "<table border=\"1\" class=\"dataframe\">\n",
       "  <thead>\n",
       "    <tr style=\"text-align: right;\">\n",
       "      <th></th>\n",
       "      <th>groundtruth:MUST_LINK</th>\n",
       "      <th>groundtruth:CANNOT_LINK</th>\n",
       "      <th>1.2:MUST_LINK</th>\n",
       "      <th>1.2:CANNOT_LINK</th>\n",
       "      <th>7.2:MUST_LINK</th>\n",
       "      <th>7.2:CANNOT_LINK</th>\n",
       "      <th>9.2:MUST_LINK</th>\n",
       "      <th>9.2:CANNOT_LINK</th>\n",
       "      <th>12.2:MUST_LINK</th>\n",
       "      <th>12.2:CANNOT_LINK</th>\n",
       "    </tr>\n",
       "  </thead>\n",
       "  <tbody>\n",
       "    <tr>\n",
       "      <th>groundtruth:MUST_LINK</th>\n",
       "      <td>200</td>\n",
       "      <td>0</td>\n",
       "      <td>178</td>\n",
       "      <td>14</td>\n",
       "      <td>167</td>\n",
       "      <td>33</td>\n",
       "      <td>161</td>\n",
       "      <td>39</td>\n",
       "      <td>155</td>\n",
       "      <td>43</td>\n",
       "    </tr>\n",
       "    <tr>\n",
       "      <th>groundtruth:CANNOT_LINK</th>\n",
       "      <td>0</td>\n",
       "      <td>200</td>\n",
       "      <td>7</td>\n",
       "      <td>190</td>\n",
       "      <td>17</td>\n",
       "      <td>183</td>\n",
       "      <td>24</td>\n",
       "      <td>176</td>\n",
       "      <td>9</td>\n",
       "      <td>191</td>\n",
       "    </tr>\n",
       "    <tr>\n",
       "      <th>1.2:MUST_LINK</th>\n",
       "      <td>178</td>\n",
       "      <td>7</td>\n",
       "      <td>185</td>\n",
       "      <td>0</td>\n",
       "      <td>165</td>\n",
       "      <td>20</td>\n",
       "      <td>154</td>\n",
       "      <td>31</td>\n",
       "      <td>149</td>\n",
       "      <td>34</td>\n",
       "    </tr>\n",
       "    <tr>\n",
       "      <th>1.2:CANNOT_LINK</th>\n",
       "      <td>14</td>\n",
       "      <td>190</td>\n",
       "      <td>0</td>\n",
       "      <td>204</td>\n",
       "      <td>14</td>\n",
       "      <td>190</td>\n",
       "      <td>25</td>\n",
       "      <td>179</td>\n",
       "      <td>8</td>\n",
       "      <td>196</td>\n",
       "    </tr>\n",
       "    <tr>\n",
       "      <th>7.2:MUST_LINK</th>\n",
       "      <td>167</td>\n",
       "      <td>17</td>\n",
       "      <td>165</td>\n",
       "      <td>14</td>\n",
       "      <td>184</td>\n",
       "      <td>0</td>\n",
       "      <td>156</td>\n",
       "      <td>28</td>\n",
       "      <td>144</td>\n",
       "      <td>39</td>\n",
       "    </tr>\n",
       "    <tr>\n",
       "      <th>7.2:CANNOT_LINK</th>\n",
       "      <td>33</td>\n",
       "      <td>183</td>\n",
       "      <td>20</td>\n",
       "      <td>190</td>\n",
       "      <td>0</td>\n",
       "      <td>216</td>\n",
       "      <td>29</td>\n",
       "      <td>187</td>\n",
       "      <td>20</td>\n",
       "      <td>195</td>\n",
       "    </tr>\n",
       "    <tr>\n",
       "      <th>9.2:MUST_LINK</th>\n",
       "      <td>161</td>\n",
       "      <td>24</td>\n",
       "      <td>154</td>\n",
       "      <td>25</td>\n",
       "      <td>156</td>\n",
       "      <td>29</td>\n",
       "      <td>185</td>\n",
       "      <td>0</td>\n",
       "      <td>134</td>\n",
       "      <td>49</td>\n",
       "    </tr>\n",
       "    <tr>\n",
       "      <th>9.2:CANNOT_LINK</th>\n",
       "      <td>39</td>\n",
       "      <td>176</td>\n",
       "      <td>31</td>\n",
       "      <td>179</td>\n",
       "      <td>28</td>\n",
       "      <td>187</td>\n",
       "      <td>0</td>\n",
       "      <td>215</td>\n",
       "      <td>30</td>\n",
       "      <td>185</td>\n",
       "    </tr>\n",
       "    <tr>\n",
       "      <th>12.2:MUST_LINK</th>\n",
       "      <td>155</td>\n",
       "      <td>9</td>\n",
       "      <td>149</td>\n",
       "      <td>8</td>\n",
       "      <td>144</td>\n",
       "      <td>20</td>\n",
       "      <td>134</td>\n",
       "      <td>30</td>\n",
       "      <td>164</td>\n",
       "      <td>0</td>\n",
       "    </tr>\n",
       "    <tr>\n",
       "      <th>12.2:CANNOT_LINK</th>\n",
       "      <td>43</td>\n",
       "      <td>191</td>\n",
       "      <td>34</td>\n",
       "      <td>196</td>\n",
       "      <td>39</td>\n",
       "      <td>195</td>\n",
       "      <td>49</td>\n",
       "      <td>185</td>\n",
       "      <td>0</td>\n",
       "      <td>234</td>\n",
       "    </tr>\n",
       "  </tbody>\n",
       "</table>\n",
       "</div>"
      ],
      "text/plain": [
       "                         groundtruth:MUST_LINK  groundtruth:CANNOT_LINK  \\\n",
       "groundtruth:MUST_LINK                      200                        0   \n",
       "groundtruth:CANNOT_LINK                      0                      200   \n",
       "1.2:MUST_LINK                              178                        7   \n",
       "1.2:CANNOT_LINK                             14                      190   \n",
       "7.2:MUST_LINK                              167                       17   \n",
       "7.2:CANNOT_LINK                             33                      183   \n",
       "9.2:MUST_LINK                              161                       24   \n",
       "9.2:CANNOT_LINK                             39                      176   \n",
       "12.2:MUST_LINK                             155                        9   \n",
       "12.2:CANNOT_LINK                            43                      191   \n",
       "\n",
       "                         1.2:MUST_LINK  1.2:CANNOT_LINK  7.2:MUST_LINK  \\\n",
       "groundtruth:MUST_LINK              178               14            167   \n",
       "groundtruth:CANNOT_LINK              7              190             17   \n",
       "1.2:MUST_LINK                      185                0            165   \n",
       "1.2:CANNOT_LINK                      0              204             14   \n",
       "7.2:MUST_LINK                      165               14            184   \n",
       "7.2:CANNOT_LINK                     20              190              0   \n",
       "9.2:MUST_LINK                      154               25            156   \n",
       "9.2:CANNOT_LINK                     31              179             28   \n",
       "12.2:MUST_LINK                     149                8            144   \n",
       "12.2:CANNOT_LINK                    34              196             39   \n",
       "\n",
       "                         7.2:CANNOT_LINK  9.2:MUST_LINK  9.2:CANNOT_LINK  \\\n",
       "groundtruth:MUST_LINK                 33            161               39   \n",
       "groundtruth:CANNOT_LINK              183             24              176   \n",
       "1.2:MUST_LINK                         20            154               31   \n",
       "1.2:CANNOT_LINK                      190             25              179   \n",
       "7.2:MUST_LINK                          0            156               28   \n",
       "7.2:CANNOT_LINK                      216             29              187   \n",
       "9.2:MUST_LINK                         29            185                0   \n",
       "9.2:CANNOT_LINK                      187              0              215   \n",
       "12.2:MUST_LINK                        20            134               30   \n",
       "12.2:CANNOT_LINK                     195             49              185   \n",
       "\n",
       "                         12.2:MUST_LINK  12.2:CANNOT_LINK  \n",
       "groundtruth:MUST_LINK               155                43  \n",
       "groundtruth:CANNOT_LINK               9               191  \n",
       "1.2:MUST_LINK                       149                34  \n",
       "1.2:CANNOT_LINK                       8               196  \n",
       "7.2:MUST_LINK                       144                39  \n",
       "7.2:CANNOT_LINK                      20               195  \n",
       "9.2:MUST_LINK                       134                49  \n",
       "9.2:CANNOT_LINK                      30               185  \n",
       "12.2:MUST_LINK                      164                 0  \n",
       "12.2:CANNOT_LINK                      0               234  "
      ]
     },
     "execution_count": 133,
     "metadata": {},
     "output_type": "execute_result"
    }
   ],
   "source": [
    "inter_annotator_contingencies: Dict[str, Dict[str, int]] = {}\n",
    "for annotator_1, constraints_list_1 in dict_of_constraints.items():\n",
    "    for case_1 in [\"MUST_LINK\", \"CANNOT_LINK\"]:  # [\"MUST_LINK\", \"CANNOT_LINK\", None]:\n",
    "        inter_annotator_contingencies[\"{0}:{1}\".format(annotator_1, case_1)] = {}\n",
    "        for annotator_2, constraints_list_2 in dict_of_constraints.items():\n",
    "            for case_2 in [\"MUST_LINK\", \"CANNOT_LINK\"]:  # [\"MUST_LINK\", \"CANNOT_LINK\", None]:\n",
    "                inter_annotator_contingencies[\"{0}:{1}\".format(annotator_1, case_1)][\"{0}:{1}\".format(annotator_2, case_2)] = 0\n",
    "                for constraint_id in dict_of_constraints_sampled:\n",
    "                    if (dict_of_constraints[annotator_1][constraint_id], dict_of_constraints[annotator_2][constraint_id]) == (case_1, case_2):\n",
    "                        inter_annotator_contingencies[\"{0}:{1}\".format(annotator_1, case_1)][\"{0}:{1}\".format(annotator_2, case_2)] += 1\n",
    "pd.DataFrame.from_dict(inter_annotator_contingencies)"
   ]
  },
  {
   "cell_type": "markdown",
   "id": "a7fbf43f",
   "metadata": {},
   "source": [
    "### 3.2. Compute inter-annotators scores."
   ]
  },
  {
   "cell_type": "code",
   "execution_count": 134,
   "id": "8983d6de",
   "metadata": {},
   "outputs": [
    {
     "data": {
      "text/html": [
       "<div>\n",
       "<style scoped>\n",
       "    .dataframe tbody tr th:only-of-type {\n",
       "        vertical-align: middle;\n",
       "    }\n",
       "\n",
       "    .dataframe tbody tr th {\n",
       "        vertical-align: top;\n",
       "    }\n",
       "\n",
       "    .dataframe thead th {\n",
       "        text-align: right;\n",
       "    }\n",
       "</style>\n",
       "<table border=\"1\" class=\"dataframe\">\n",
       "  <thead>\n",
       "    <tr style=\"text-align: right;\">\n",
       "      <th></th>\n",
       "      <th>groundtruth</th>\n",
       "      <th>1.2</th>\n",
       "      <th>7.2</th>\n",
       "      <th>9.2</th>\n",
       "      <th>12.2</th>\n",
       "    </tr>\n",
       "  </thead>\n",
       "  <tbody>\n",
       "    <tr>\n",
       "      <th>groundtruth</th>\n",
       "      <td>1.000000</td>\n",
       "      <td>0.946015</td>\n",
       "      <td>0.875000</td>\n",
       "      <td>0.842500</td>\n",
       "      <td>0.869347</td>\n",
       "    </tr>\n",
       "    <tr>\n",
       "      <th>1.2</th>\n",
       "      <td>0.946015</td>\n",
       "      <td>1.000000</td>\n",
       "      <td>0.912596</td>\n",
       "      <td>0.856041</td>\n",
       "      <td>0.891473</td>\n",
       "    </tr>\n",
       "    <tr>\n",
       "      <th>7.2</th>\n",
       "      <td>0.875000</td>\n",
       "      <td>0.912596</td>\n",
       "      <td>1.000000</td>\n",
       "      <td>0.857500</td>\n",
       "      <td>0.851759</td>\n",
       "    </tr>\n",
       "    <tr>\n",
       "      <th>9.2</th>\n",
       "      <td>0.842500</td>\n",
       "      <td>0.856041</td>\n",
       "      <td>0.857500</td>\n",
       "      <td>1.000000</td>\n",
       "      <td>0.801508</td>\n",
       "    </tr>\n",
       "    <tr>\n",
       "      <th>12.2</th>\n",
       "      <td>0.869347</td>\n",
       "      <td>0.891473</td>\n",
       "      <td>0.851759</td>\n",
       "      <td>0.801508</td>\n",
       "      <td>1.000000</td>\n",
       "    </tr>\n",
       "  </tbody>\n",
       "</table>\n",
       "</div>"
      ],
      "text/plain": [
       "             groundtruth       1.2       7.2       9.2      12.2\n",
       "groundtruth     1.000000  0.946015  0.875000  0.842500  0.869347\n",
       "1.2             0.946015  1.000000  0.912596  0.856041  0.891473\n",
       "7.2             0.875000  0.912596  1.000000  0.857500  0.851759\n",
       "9.2             0.842500  0.856041  0.857500  1.000000  0.801508\n",
       "12.2            0.869347  0.891473  0.851759  0.801508  1.000000"
      ]
     },
     "execution_count": 134,
     "metadata": {},
     "output_type": "execute_result"
    }
   ],
   "source": [
    "inter_annotator_scores: Dict[str, Dict[str, float]] = {}\n",
    "for annotator_1 in dict_of_constraints.keys():\n",
    "    inter_annotator_scores[annotator_1] = {}\n",
    "    for annotator_2 in dict_of_constraints.keys():\n",
    "        inter_annotator_scores[annotator_1][annotator_2] = sum(\n",
    "            inter_annotator_contingencies[\"{0}:{1}\".format(annotator_1, case)][\"{0}:{1}\".format(annotator_2, case)]\n",
    "            for case in [\"MUST_LINK\", \"CANNOT_LINK\"]\n",
    "        ) / sum(\n",
    "            inter_annotator_contingencies[\"{0}:{1}\".format(annotator_1, case_1)][\"{0}:{1}\".format(annotator_2, case_2)]\n",
    "            for case_1 in [\"MUST_LINK\", \"CANNOT_LINK\"]\n",
    "            for case_2 in [\"MUST_LINK\", \"CANNOT_LINK\"]\n",
    "        )\n",
    "pd.DataFrame.from_dict(inter_annotator_scores)"
   ]
  },
  {
   "cell_type": "code",
   "execution_count": 135,
   "id": "3c663ddd",
   "metadata": {},
   "outputs": [
    {
     "name": "stdout",
     "output_type": "stream",
     "text": [
      "Grountruth average agreement: 0.8623 (+/-0.0142)\n"
     ]
    }
   ],
   "source": [
    "list_of_groundtruth_agreement_scores: List[str] = [\n",
    "    inter_annotator_scores[\"groundtruth\"][annotator]\n",
    "    for annotator in dict_of_constraints.keys()\n",
    "    if annotator not in [\"groundtruth\", \"1.1\", \"1.2\"]\n",
    "]\n",
    "print(\"Grountruth average agreement:\", \"{0:.4f} (+/-{1:.4f})\".format(np.mean(list_of_groundtruth_agreement_scores), np.std(list_of_groundtruth_agreement_scores)))"
   ]
  },
  {
   "cell_type": "code",
   "execution_count": 136,
   "id": "65466bd8",
   "metadata": {},
   "outputs": [
    {
     "name": "stdout",
     "output_type": "stream",
     "text": [
      "Inter-annotators average score: 0.8369 (+/-0.0252)\n"
     ]
    }
   ],
   "source": [
    "list_of_inter_annotators_scores: List[str] = [\n",
    "    inter_annotator_scores[annotator_1][annotator_2]\n",
    "    for annotator_1 in dict_of_constraints.keys()\n",
    "    for annotator_2 in dict_of_constraints.keys()\n",
    "    if (annotator_1 < annotator_2) and (annotator_1 not in [\"groundtruth\", \"1.1\", \"1.2\"]) and (annotator_2 not in [\"groundtruth\", \"1.1\", \"1.2\"])\n",
    "]\n",
    "print(\"Inter-annotators average score:\", \"{0:.4f} (+/-{1:.4f})\".format(np.mean(list_of_inter_annotators_scores), np.std(list_of_inter_annotators_scores)))"
   ]
  },
  {
   "cell_type": "code",
   "execution_count": null,
   "id": "5f8ddd45",
   "metadata": {},
   "outputs": [],
   "source": []
  }
 ],
 "metadata": {
  "kernelspec": {
   "display_name": "Python 3 (ipykernel)",
   "language": "python",
   "name": "python3"
  },
  "language_info": {
   "codemirror_mode": {
    "name": "ipython",
    "version": 3
   },
   "file_extension": ".py",
   "mimetype": "text/x-python",
   "name": "python",
   "nbconvert_exporter": "python",
   "pygments_lexer": "ipython3",
   "version": "3.8.0"
  }
 },
 "nbformat": 4,
 "nbformat_minor": 5
}
