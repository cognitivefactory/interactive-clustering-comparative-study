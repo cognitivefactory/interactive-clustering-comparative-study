{
 "cells": [
  {
   "cell_type": "markdown",
   "id": "4554a785",
   "metadata": {},
   "source": [
    "# ==== INTERACTIVE CLUSTERING COMPARATIVE STUDY ====\n",
    "> ### Stage 3 : Apply main effects and post-hoc analysis on interactive clustering parameters."
   ]
  },
  {
   "cell_type": "markdown",
   "id": "4bc1fb5b",
   "metadata": {},
   "source": [
    "------------------------------\n",
    "## READ-ME BEFORE RUNNING"
   ]
  },
  {
   "cell_type": "markdown",
   "id": "223164ec",
   "metadata": {},
   "source": [
    "### Quick Description\n",
    "\n",
    "This notebook is **aimed at run main effects and and post-hoc analysis on interactive clustering convergence speed over experiments**.\n",
    "- Environments are represented by subdirectories in the `/experiments` folder. A full path to an experiment environment is `/experiments/[DATASET]/[PREPROCESSING]/[VECTORIZATION]/[SAMPLING]/[CLUSTERING]/[EXPERIMENT]`.\n",
    "- Experiments have to be run and evaluated in order to analyze convergency speed.\n",
    "\n",
    "Before running, **run the notebook `2_Run_and_evaluate_experiments.ipynb` to run and evaluate each experiment you have set**."
   ]
  },
  {
   "cell_type": "markdown",
   "id": "d8bec64b",
   "metadata": {},
   "source": [
    "### Description each steps\n",
    "\n",
    "First of all, **load experiment synthesis CSV file** that have been computed with the last notebook.\n",
    "- It contains parameters used for each experiment and convergency metric to compare.\n",
    "- Four parameters are studied : `preprocessing`, `vectorization`, `sampling` and `clustering`.\n",
    "\n",
    "For the next steps, choose an threshold of annotation (`partial annotation (80% of v-measure)`, `sufficient annotation (100% of v-measure)` and `complete annotation (annotation completeness)`)\n",
    "\n",
    "First, **perform general analyses** :\n",
    "- Fit a generalized linear model (GLM) on data.\n",
    "\n",
    "Then, **perform main effect analyses** to determine the parameters that significantly influence the convergence speed :\n",
    "- Fit an analysis of variance model by a repeated measured anova on data.\n",
    "- Compute statistic effect size of the variance model.\n",
    "\n",
    "Finally, **perform post hoct analyses** to determine the best values of parameters that significantly influence the convergence speed :\n",
    "- Fit a linear mixed-effects model (LMM) on data.\n",
    "- Fit an estimated marginal means of significant factors and interactions with Tukey HSD adjustment.\n"
   ]
  },
  {
   "cell_type": "markdown",
   "id": "a1a5ca44",
   "metadata": {},
   "source": [
    "------------------------------\n",
    "## 1. IMPORT R DEPENDENCIES"
   ]
  },
  {
   "cell_type": "code",
   "execution_count": null,
   "id": "063124f8",
   "metadata": {},
   "outputs": [],
   "source": [
    "#library(\"sjstats\")  # common statistical computations\n",
    "library(\"lme4\")  # linear and mixed models (lmer).\n",
    "library(\"emmeans\")  # estimated marginal means (emmeans)."
   ]
  },
  {
   "cell_type": "markdown",
   "id": "87ea13b2",
   "metadata": {},
   "source": [
    "------------------------------\n",
    "## 2. LOAD SYNTHESIS CSV FILE"
   ]
  },
  {
   "cell_type": "code",
   "execution_count": null,
   "id": "b21bc697",
   "metadata": {},
   "outputs": [],
   "source": [
    "# Load analysis data.\n",
    "df_analysis <- read.csv(\n",
    "    file=\"../experiments/experiments_synthesis.csv\",\n",
    "    header=TRUE,  # Use the first row as headers.\n",
    "    sep=\";\",\n",
    "    skip=0,  # Number of rows to skip in the file.\n",
    ")"
   ]
  },
  {
   "cell_type": "code",
   "execution_count": null,
   "id": "068a3220",
   "metadata": {
    "scrolled": true
   },
   "outputs": [],
   "source": [
    "# Show an extract of analysis data.\n",
    "str(df_analysis)"
   ]
  },
  {
   "cell_type": "code",
   "execution_count": null,
   "id": "2bc1c812",
   "metadata": {},
   "outputs": [],
   "source": [
    "# Set column type to factor for columns \"preprocessing\", \"vectorization\", \"sampling\", \"clustering\", \"random_seed\".\n",
    "df_analysis$preprocessing <- as.factor( df_analysis$preprocessing )\n",
    "df_analysis$vectorization <- as.factor( df_analysis$vectorization )\n",
    "df_analysis$sampling <- as.factor( df_analysis$sampling )\n",
    "df_analysis$clustering <- as.factor( df_analysis$clustering )\n",
    "df_analysis$random_seed <- as.factor( df_analysis$random_seed )"
   ]
  },
  {
   "cell_type": "code",
   "execution_count": null,
   "id": "1482ec61",
   "metadata": {},
   "outputs": [],
   "source": [
    "# Set column type to numeric for columns \"V050v__\"\n",
    "df_analysis$V050v__iteration <- as.numeric( df_analysis$V050v__iteration )\n",
    "df_analysis$V050v__sampling_time <- as.numeric( df_analysis$V050v__sampling_time )\n",
    "df_analysis$V050v__clustering_time <- as.numeric( df_analysis$V050v__clustering_time )\n",
    "df_analysis$V050v__total_time <- as.numeric( df_analysis$V050v__total_time )\n",
    "df_analysis$V050v__constraints_must_link <- as.numeric( df_analysis$V050v__constraints_must_link )\n",
    "df_analysis$V050v__constraints_cannot_link <- as.numeric( df_analysis$V050v__constraints_cannot_link )\n",
    "df_analysis$V050v__constraints_total <- as.numeric( df_analysis$V050v__constraints_total )\n",
    "df_analysis$V050v__constraints_ratio_must_link <- as.numeric( df_analysis$V050v__constraints_ratio_must_link )\n",
    "\n",
    "# Set column type to numeric for columns \"V060v__\"\n",
    "df_analysis$V060v__iteration <- as.numeric( df_analysis$V060v__iteration )\n",
    "df_analysis$V060v__sampling_time <- as.numeric( df_analysis$V060v__sampling_time )\n",
    "df_analysis$V060v__clustering_time <- as.numeric( df_analysis$V060v__clustering_time )\n",
    "df_analysis$V060v__total_time <- as.numeric( df_analysis$V060v__total_time )\n",
    "df_analysis$V060v__constraints_must_link <- as.numeric( df_analysis$V060v__constraints_must_link )\n",
    "df_analysis$V060v__constraints_cannot_link <- as.numeric( df_analysis$V060v__constraints_cannot_link )\n",
    "df_analysis$V060v__constraints_total <- as.numeric( df_analysis$V060v__constraints_total )\n",
    "df_analysis$V060v__constraints_ratio_must_link <- as.numeric( df_analysis$V060v__constraints_ratio_must_link )\n",
    "\n",
    "# Set column type to numeric for columns \"V070v__\"\n",
    "df_analysis$V070v__iteration <- as.numeric( df_analysis$V070v__iteration )\n",
    "df_analysis$V070v__sampling_time <- as.numeric( df_analysis$V070v__sampling_time )\n",
    "df_analysis$V070v__clustering_time <- as.numeric( df_analysis$V070v__clustering_time )\n",
    "df_analysis$V070v__total_time <- as.numeric( df_analysis$V070v__total_time )\n",
    "df_analysis$V070v__constraints_must_link <- as.numeric( df_analysis$V070v__constraints_must_link )\n",
    "df_analysis$V070v__constraints_cannot_link <- as.numeric( df_analysis$V070v__constraints_cannot_link )\n",
    "df_analysis$V070v__constraints_total <- as.numeric( df_analysis$V070v__constraints_total )\n",
    "df_analysis$V070v__constraints_ratio_must_link <- as.numeric( df_analysis$V070v__constraints_ratio_must_link )\n",
    "\n",
    "# Set column type to numeric for columns \"V080v__\"\n",
    "df_analysis$V080v__iteration <- as.numeric( df_analysis$V080v__iteration )\n",
    "df_analysis$V080v__sampling_time <- as.numeric( df_analysis$V080v__sampling_time )\n",
    "df_analysis$V080v__clustering_time <- as.numeric( df_analysis$V080v__clustering_time )\n",
    "df_analysis$V080v__total_time <- as.numeric( df_analysis$V080v__total_time )\n",
    "df_analysis$V080v__constraints_must_link <- as.numeric( df_analysis$V080v__constraints_must_link )\n",
    "df_analysis$V080v__constraints_cannot_link <- as.numeric( df_analysis$V080v__constraints_cannot_link )\n",
    "df_analysis$V080v__constraints_total <- as.numeric( df_analysis$V080v__constraints_total )\n",
    "df_analysis$V080v__constraints_ratio_must_link <- as.numeric( df_analysis$V080v__constraints_ratio_must_link )\n",
    "\n",
    "# Set column type to numeric for columns \"V090v__\"\n",
    "df_analysis$V090v__iteration <- as.numeric( df_analysis$V090v__iteration )\n",
    "df_analysis$V090v__sampling_time <- as.numeric( df_analysis$V090v__sampling_time )\n",
    "df_analysis$V090v__clustering_time <- as.numeric( df_analysis$V090v__clustering_time )\n",
    "df_analysis$V090v__total_time <- as.numeric( df_analysis$V090v__total_time )\n",
    "df_analysis$V090v__constraints_must_link <- as.numeric( df_analysis$V090v__constraints_must_link )\n",
    "df_analysis$V090v__constraints_cannot_link <- as.numeric( df_analysis$V090v__constraints_cannot_link )\n",
    "df_analysis$V090v__constraints_total <- as.numeric( df_analysis$V090v__constraints_total )\n",
    "df_analysis$V090v__constraints_ratio_must_link <- as.numeric( df_analysis$V090v__constraints_ratio_must_link )\n",
    "\n",
    "# Set column type to numeric for columns \"V095v__\"\n",
    "df_analysis$V095v__iteration <- as.numeric( df_analysis$V095v__iteration )\n",
    "df_analysis$V095v__sampling_time <- as.numeric( df_analysis$V095v__sampling_time )\n",
    "df_analysis$V095v__clustering_time <- as.numeric( df_analysis$V095v__clustering_time )\n",
    "df_analysis$V095v__total_time <- as.numeric( df_analysis$V095v__total_time )\n",
    "df_analysis$V095v__constraints_must_link <- as.numeric( df_analysis$V095v__constraints_must_link )\n",
    "df_analysis$V095v__constraints_cannot_link <- as.numeric( df_analysis$V095v__constraints_cannot_link )\n",
    "df_analysis$V095v__constraints_total <- as.numeric( df_analysis$V095v__constraints_total )\n",
    "df_analysis$V095v__constraints_ratio_must_link <- as.numeric( df_analysis$V095v__constraints_ratio_must_link )\n",
    "\n",
    "# Set column type to numeric for columns \"V099v__\"\n",
    "df_analysis$V099v__iteration <- as.numeric( df_analysis$V099v__iteration )\n",
    "df_analysis$V099v__sampling_time <- as.numeric( df_analysis$V099v__sampling_time )\n",
    "df_analysis$V099v__clustering_time <- as.numeric( df_analysis$V099v__clustering_time )\n",
    "df_analysis$V099v__total_time <- as.numeric( df_analysis$V099v__total_time )\n",
    "df_analysis$V099v__constraints_must_link <- as.numeric( df_analysis$V099v__constraints_must_link )\n",
    "df_analysis$V099v__constraints_cannot_link <- as.numeric( df_analysis$V099v__constraints_cannot_link )\n",
    "df_analysis$V099v__constraints_total <- as.numeric( df_analysis$V099v__constraints_total )\n",
    "df_analysis$V099v__constraints_ratio_must_link <- as.numeric( df_analysis$V099v__constraints_ratio_must_link )\n",
    "\n",
    "# Set column type to numeric for columns \"V100v__\"\n",
    "df_analysis$V100v__iteration <- as.numeric( df_analysis$V100v__iteration )\n",
    "df_analysis$V100v__sampling_time <- as.numeric( df_analysis$V100v__sampling_time )\n",
    "df_analysis$V100v__clustering_time <- as.numeric( df_analysis$V100v__clustering_time )\n",
    "df_analysis$V100v__total_time <- as.numeric( df_analysis$V100v__total_time )\n",
    "df_analysis$V100v__constraints_must_link <- as.numeric( df_analysis$V100v__constraints_must_link )\n",
    "df_analysis$V100v__constraints_cannot_link <- as.numeric( df_analysis$V100v__constraints_cannot_link )\n",
    "df_analysis$V100v__constraints_total <- as.numeric( df_analysis$V100v__constraints_total )\n",
    "df_analysis$V100v__constraints_ratio_must_link <- as.numeric( df_analysis$V100v__constraints_ratio_must_link )\n",
    "\n",
    "# Set column type to numeric for columns \"VMAX__\"\n",
    "df_analysis$VMAX__iteration <- as.numeric( df_analysis$VMAX__iteration )\n",
    "df_analysis$VMAX__sampling_time <- as.numeric( df_analysis$VMAX__sampling_time )\n",
    "df_analysis$VMAX__clustering_time <- as.numeric( df_analysis$VMAX__clustering_time )\n",
    "df_analysis$VMAX__total_time <- as.numeric( df_analysis$VMAX__total_time )\n",
    "df_analysis$VMAX__constraints_must_link <- as.numeric( df_analysis$VMAX__constraints_must_link )\n",
    "df_analysis$VMAX__constraints_cannot_link <- as.numeric( df_analysis$VMAX__constraints_cannot_link )\n",
    "df_analysis$VMAX__constraints_total <- as.numeric( df_analysis$VMAX__constraints_total )\n",
    "df_analysis$VMAX__constraints_ratio_must_link <- as.numeric( df_analysis$VMAX__constraints_ratio_must_link )"
   ]
  },
  {
   "cell_type": "markdown",
   "id": "0d43b470",
   "metadata": {},
   "source": [
    "------------------------------\n",
    "## 3. ANALYZE PARTIAL ANNOTATION (`v-measure==0.80`)"
   ]
  },
  {
   "cell_type": "markdown",
   "id": "1",
   "metadata": {},
   "source": [
    "### 3.1. Apply general analysis"
   ]
  },
  {
   "cell_type": "markdown",
   "id": "059428ce",
   "metadata": {},
   "source": [
    "Fit a generalized linear model (GLM) on data."
   ]
  },
  {
   "cell_type": "code",
   "execution_count": null,
   "id": "2",
   "metadata": {
    "scrolled": true
   },
   "outputs": [],
   "source": [
    "GLM_fit_V080v__iteration <- glm(\n",
    "    formula = V080v__iteration ~ preprocessing + vectorization + sampling + clustering + random_seed,\n",
    "    data = df_analysis\n",
    ")\n",
    "summary(GLM_fit_V080v__iteration)"
   ]
  },
  {
   "cell_type": "markdown",
   "id": "3",
   "metadata": {},
   "source": [
    "### 3.2. Apply main effect analysis."
   ]
  },
  {
   "cell_type": "markdown",
   "id": "4",
   "metadata": {},
   "source": [
    "Fit an analysis of variance model by a repeated measured anova on data."
   ]
  },
  {
   "cell_type": "code",
   "execution_count": null,
   "id": "5",
   "metadata": {
    "scrolled": true
   },
   "outputs": [],
   "source": [
    "ANOVA_fit_V080v__iteration <- aov(\n",
    "    formula = V080v__iteration ~ preprocessing * vectorization * sampling * clustering + Error(random_seed / (preprocessing * vectorization * sampling * clustering)),\n",
    "    data = df_analysis\n",
    ")\n",
    "summary(ANOVA_fit_V080v__iteration)"
   ]
  },
  {
   "cell_type": "markdown",
   "id": "6",
   "metadata": {},
   "source": [
    "Compute statistic effect size of the variance model."
   ]
  },
  {
   "cell_type": "code",
   "execution_count": null,
   "id": "7",
   "metadata": {
    "scrolled": true
   },
   "outputs": [],
   "source": [
    "effectsize::eta_squared(ANOVA_fit_V080v__iteration)"
   ]
  },
  {
   "cell_type": "markdown",
   "id": "8",
   "metadata": {},
   "source": [
    "### 3.3. Apply post-hoc analysis"
   ]
  },
  {
   "cell_type": "markdown",
   "id": "9",
   "metadata": {},
   "source": [
    "Fit a linear mixed-effects model (LMM) on data."
   ]
  },
  {
   "cell_type": "code",
   "execution_count": null,
   "id": "10",
   "metadata": {},
   "outputs": [],
   "source": [
    "LMER_fit_V080v__iteration <- lmer(\n",
    "    formula = V080v__iteration ~ preprocessing * vectorization * sampling * clustering + (1|random_seed),\n",
    "    data = df_analysis,\n",
    ")\n",
    "summary(LMER_fit_V080v__iteration)"
   ]
  },
  {
   "cell_type": "markdown",
   "id": "11",
   "metadata": {},
   "source": [
    "Fit an estimated marginal means of significant factors and interactions with Tukey HSD adjustment.\n",
    "\n",
    "_NB_: These computations are only valid if factors or interactions have a significant main effect."
   ]
  },
  {
   "cell_type": "code",
   "execution_count": null,
   "id": "12",
   "metadata": {
    "scrolled": true
   },
   "outputs": [],
   "source": [
    "# Simple interaction.\n",
    "summary(emmeans(LMER_fit_V080v__iteration, list(pairwise ~ preprocessing), adjust = \"tukey\"))"
   ]
  },
  {
   "cell_type": "code",
   "execution_count": null,
   "id": "13",
   "metadata": {
    "scrolled": true
   },
   "outputs": [],
   "source": [
    "# Simple interaction.\n",
    "summary(emmeans(LMER_fit_V080v__iteration, list(pairwise ~ vectorization), adjust = \"tukey\"))"
   ]
  },
  {
   "cell_type": "code",
   "execution_count": null,
   "id": "3d455d85",
   "metadata": {
    "scrolled": true
   },
   "outputs": [],
   "source": [
    "# Simple interaction.\n",
    "summary(emmeans(LMER_fit_V080v__iteration, list(pairwise ~ sampling), adjust = \"tukey\"))"
   ]
  },
  {
   "cell_type": "code",
   "execution_count": null,
   "id": "6256c28e",
   "metadata": {
    "scrolled": true
   },
   "outputs": [],
   "source": [
    "# Simple interaction.\n",
    "summary(emmeans(LMER_fit_V080v__iteration, list(pairwise ~ clustering), adjust = \"tukey\"))"
   ]
  },
  {
   "cell_type": "markdown",
   "id": "c78cc225",
   "metadata": {},
   "source": [
    "------------------------------\n",
    "## 4. ANALYZE SUFFICIENT ANNOTATION (`v-measure==1.00`)"
   ]
  },
  {
   "cell_type": "markdown",
   "id": "ca407dcd",
   "metadata": {},
   "source": [
    "### 4.1. Apply general analysis"
   ]
  },
  {
   "cell_type": "markdown",
   "id": "841bc55c",
   "metadata": {},
   "source": [
    "Fit a generalized linear model (GLM) on data."
   ]
  },
  {
   "cell_type": "code",
   "execution_count": null,
   "id": "17383ae0",
   "metadata": {
    "scrolled": true
   },
   "outputs": [],
   "source": [
    "GLM_fit_V100v__iteration <- glm(\n",
    "    formula = V100v__iteration ~ preprocessing + vectorization + sampling + clustering + random_seed,\n",
    "    data = df_analysis\n",
    ")\n",
    "summary(GLM_fit_V100v__iteration)"
   ]
  },
  {
   "cell_type": "markdown",
   "id": "b6b7dfd4",
   "metadata": {},
   "source": [
    "### 4.2. Apply main effect analysis."
   ]
  },
  {
   "cell_type": "markdown",
   "id": "d1c23043",
   "metadata": {},
   "source": [
    "Fit an analysis of variance model by a repeated measured anova on data."
   ]
  },
  {
   "cell_type": "code",
   "execution_count": null,
   "id": "9e23143c",
   "metadata": {
    "scrolled": true
   },
   "outputs": [],
   "source": [
    "ANOVA_fit_V100v__iteration <- aov(\n",
    "    formula = V100v__iteration ~ preprocessing * vectorization * sampling * clustering + Error(random_seed / (preprocessing * vectorization * sampling * clustering)),\n",
    "    data = df_analysis\n",
    ")\n",
    "summary(ANOVA_fit_V100v__iteration)"
   ]
  },
  {
   "cell_type": "markdown",
   "id": "5a65dbfc",
   "metadata": {},
   "source": [
    "Compute statistic effect size of the variance model."
   ]
  },
  {
   "cell_type": "code",
   "execution_count": null,
   "id": "e22f2394",
   "metadata": {
    "scrolled": true
   },
   "outputs": [],
   "source": [
    "effectsize::eta_squared(ANOVA_fit_V100v__iteration)"
   ]
  },
  {
   "cell_type": "markdown",
   "id": "715f973d",
   "metadata": {},
   "source": [
    "### 4.3. Apply post-hoc analysis"
   ]
  },
  {
   "cell_type": "markdown",
   "id": "8a244d7e",
   "metadata": {},
   "source": [
    "Fit a linear mixed-effects model (LMM) on data."
   ]
  },
  {
   "cell_type": "code",
   "execution_count": null,
   "id": "d823152b",
   "metadata": {},
   "outputs": [],
   "source": [
    "LMER_fit_V100v__iteration <- lmer(\n",
    "    formula = V100v__iteration ~ preprocessing * vectorization * sampling * clustering + (1|random_seed),\n",
    "    data = df_analysis,\n",
    ")\n",
    "summary(LMER_fit_V100v__iteration)"
   ]
  },
  {
   "cell_type": "markdown",
   "id": "5b979f4d",
   "metadata": {},
   "source": [
    "Fit an estimated marginal means of significant factors and interactions with Tukey HSD adjustment.\n",
    "\n",
    "_NB_: These computations are only valid if factors or interactions have a significant main effect."
   ]
  },
  {
   "cell_type": "code",
   "execution_count": null,
   "id": "7ce03061",
   "metadata": {
    "scrolled": false
   },
   "outputs": [],
   "source": [
    "# Simple interaction.\n",
    "summary(emmeans(LMER_fit_V100v__iteration, list(pairwise ~ preprocessing), adjust = \"tukey\"))"
   ]
  },
  {
   "cell_type": "code",
   "execution_count": null,
   "id": "5a3eecd9",
   "metadata": {},
   "outputs": [],
   "source": [
    "# Simple interaction.\n",
    "summary(emmeans(LMER_fit_V100v__iteration, list(pairwise ~ vectorization), adjust = \"tukey\"))"
   ]
  },
  {
   "cell_type": "code",
   "execution_count": null,
   "id": "f7f46322",
   "metadata": {},
   "outputs": [],
   "source": [
    "# Simple interaction.\n",
    "summary(emmeans(LMER_fit_V100v__iteration, list(pairwise ~ sampling), adjust = \"tukey\"))"
   ]
  },
  {
   "cell_type": "code",
   "execution_count": null,
   "id": "c190cc71",
   "metadata": {},
   "outputs": [],
   "source": [
    "# Simple interaction.\n",
    "summary(emmeans(LMER_fit_V100v__iteration, list(pairwise ~ clustering), adjust = \"tukey\"))"
   ]
  },
  {
   "cell_type": "markdown",
   "id": "30283ec9",
   "metadata": {},
   "source": [
    "------------------------------\n",
    "## 5. ANALYZE COMPLETE ANNOTATION (`annotation==completeness`)"
   ]
  },
  {
   "cell_type": "markdown",
   "id": "f3348292",
   "metadata": {},
   "source": [
    "### 5.1. Apply general analysis"
   ]
  },
  {
   "cell_type": "markdown",
   "id": "432aba44",
   "metadata": {},
   "source": [
    "Fit a generalized linear model (GLM) on data."
   ]
  },
  {
   "cell_type": "code",
   "execution_count": null,
   "id": "aceefc9f",
   "metadata": {
    "scrolled": true
   },
   "outputs": [],
   "source": [
    "GLM_fit_VMAX__iteration <- glm(\n",
    "    formula = VMAX__iteration ~ preprocessing + vectorization + sampling + clustering + random_seed,\n",
    "    data = df_analysis\n",
    ")\n",
    "summary(GLM_fit_VMAX__iteration)"
   ]
  },
  {
   "cell_type": "markdown",
   "id": "3508c557",
   "metadata": {},
   "source": [
    "### 5.2. Apply main effect analysis."
   ]
  },
  {
   "cell_type": "markdown",
   "id": "bfea20aa",
   "metadata": {},
   "source": [
    "Fit an analysis of variance model by a repeated measured anova on data."
   ]
  },
  {
   "cell_type": "code",
   "execution_count": null,
   "id": "b7159b12",
   "metadata": {
    "scrolled": true
   },
   "outputs": [],
   "source": [
    "ANOVA_fit_VMAX__iteration <- aov(\n",
    "    formula = VMAX__iteration ~ preprocessing * vectorization * sampling * clustering + Error(random_seed / (preprocessing * vectorization * sampling * clustering)),\n",
    "    data = df_analysis\n",
    ")\n",
    "summary(ANOVA_fit_VMAX__iteration)"
   ]
  },
  {
   "cell_type": "markdown",
   "id": "5462c6fa",
   "metadata": {},
   "source": [
    "Compute statistic effect size of the variance model."
   ]
  },
  {
   "cell_type": "code",
   "execution_count": null,
   "id": "4923ac04",
   "metadata": {
    "scrolled": true
   },
   "outputs": [],
   "source": [
    "effectsize::eta_squared(ANOVA_fit_VMAX__iteration)"
   ]
  },
  {
   "cell_type": "markdown",
   "id": "4063da8b",
   "metadata": {},
   "source": [
    "### 5.3. Apply post-hoc analysis"
   ]
  },
  {
   "cell_type": "markdown",
   "id": "11aa72d7",
   "metadata": {},
   "source": [
    "Fit a linear mixed-effects model (LMM) on data."
   ]
  },
  {
   "cell_type": "code",
   "execution_count": null,
   "id": "cc6fe859",
   "metadata": {},
   "outputs": [],
   "source": [
    "LMER_fit_VMAX__iteration <- lmer(\n",
    "    formula = VMAX__iteration ~ preprocessing * vectorization * sampling * clustering + (1|random_seed),\n",
    "    data = df_analysis,\n",
    ")\n",
    "summary(LMER_fit_VMAX__iteration)"
   ]
  },
  {
   "cell_type": "markdown",
   "id": "3168df85",
   "metadata": {},
   "source": [
    "Fit an estimated marginal means of significant factors and interactions with Tukey HSD adjustment.\n",
    "\n",
    "_NB_: These computations are only valid if factors or interactions have a significant main effect."
   ]
  },
  {
   "cell_type": "code",
   "execution_count": null,
   "id": "2fe04857",
   "metadata": {
    "scrolled": false
   },
   "outputs": [],
   "source": [
    "# Simple interaction.\n",
    "summary(emmeans(LMER_fit_VMAX__iteration, list(pairwise ~ preprocessing), adjust = \"tukey\"))"
   ]
  },
  {
   "cell_type": "code",
   "execution_count": null,
   "id": "eafe322e",
   "metadata": {},
   "outputs": [],
   "source": [
    "# Simple interaction.\n",
    "summary(emmeans(LMER_fit_VMAX__iteration, list(pairwise ~ vectorization), adjust = \"tukey\"))"
   ]
  },
  {
   "cell_type": "code",
   "execution_count": null,
   "id": "e4c0f447",
   "metadata": {},
   "outputs": [],
   "source": [
    "# Simple interaction.\n",
    "summary(emmeans(LMER_fit_VMAX__iteration, list(pairwise ~ sampling), adjust = \"tukey\"))"
   ]
  },
  {
   "cell_type": "code",
   "execution_count": null,
   "id": "6256c28e2",
   "metadata": {},
   "outputs": [],
   "source": [
    "# Simple interaction.\n",
    "summary(emmeans(LMER_fit_VMAX__iteration, list(pairwise ~ clustering), adjust = \"tukey\"))"
   ]
  },
  {
   "cell_type": "code",
   "execution_count": null,
   "id": "93ff2938",
   "metadata": {},
   "outputs": [],
   "source": []
  }
 ],
 "metadata": {
  "kernelspec": {
   "display_name": "R",
   "language": "R",
   "name": "ir"
  },
  "language_info": {
   "codemirror_mode": "r",
   "file_extension": ".r",
   "mimetype": "text/x-r-source",
   "name": "R",
   "pygments_lexer": "r",
   "version": "4.1.1"
  }
 },
 "nbformat": 4,
 "nbformat_minor": 5
}
