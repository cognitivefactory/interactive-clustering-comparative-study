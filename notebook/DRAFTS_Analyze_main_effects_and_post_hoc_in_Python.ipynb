{
 "cells": [
  {
   "cell_type": "markdown",
   "metadata": {},
   "source": [
    "# ==== INTERACTIVE CLUSTERING COMPARATIVE STUDY ====\n",
    "> ### Drafts."
   ]
  },
  {
   "cell_type": "markdown",
   "metadata": {},
   "source": [
    "------------------------------\n",
    "## READ-ME BEFORE RUNNING"
   ]
  },
  {
   "cell_type": "markdown",
   "metadata": {},
   "source": [
    "### Quick Description\n",
    "\n",
    "***#TODO:***"
   ]
  },
  {
   "cell_type": "markdown",
   "metadata": {},
   "source": [
    "### Description each steps\n",
    "\n",
    "***#TODO:***"
   ]
  },
  {
   "cell_type": "markdown",
   "metadata": {},
   "source": [
    "------------------------------\n",
    "## [DRAFT] Main effects and Post-hoc analyses in Python"
   ]
  },
  {
   "cell_type": "markdown",
   "metadata": {},
   "source": [
    "***WARNING***: The notebook `3_Analyze_main_effecets_and_post_hoc.ipynb` is more suitable to perform Main effects and Post-hoc analyses in **R**."
   ]
  },
  {
   "cell_type": "markdown",
   "metadata": {},
   "source": [
    "Import Python dependencies."
   ]
  },
  {
   "cell_type": "code",
   "execution_count": null,
   "metadata": {},
   "outputs": [],
   "source": [
    "from statsmodels.stats.anova import (\n",
    "    AnovaRM,\n",
    ")  # Repeated Measure ANOVA. cf. https://www.statology.org/repeated-measures-anova-python/\n",
    "from statsmodels.stats.multicomp import pairwise_tukeyhsd  # Posthoc with Tuckey HSD."
   ]
  },
  {
   "cell_type": "markdown",
   "metadata": {},
   "source": [
    "Load the synthetized results."
   ]
  },
  {
   "cell_type": "code",
   "execution_count": null,
   "metadata": {},
   "outputs": [],
   "source": [
    "# Load synthesis dataframe.\n",
    "import pandas as pd\n",
    "\n",
    "df_analysis = pd.read_csv(\n",
    "    filepath_or_buffer=\"../experiments/_SYNTHESIS.csv\",\n",
    "    sep=\";\",\n",
    "    index_col=0,\n",
    ")\n",
    "df_analysis.head()"
   ]
  },
  {
   "cell_type": "markdown",
   "metadata": {},
   "source": [
    "Apply Main Effect with a Repeated Measures ANOVA analysis."
   ]
  },
  {
   "cell_type": "code",
   "execution_count": null,
   "metadata": {},
   "outputs": [],
   "source": [
    "# Fit RM ANOVA model.\n",
    "anova_results = AnovaRM(\n",
    "    data=df_analysis,\n",
    "    depvar=\"V080v__iteration\",  # Metric= to analyse.\n",
    "    within=[\n",
    "        \"preprocessing\",\n",
    "        \"vectorization\",\n",
    "        \"sampling\",\n",
    "        \"clustering\",\n",
    "    ],  # Parameters to compare.\n",
    "    subject=\"random_seed\",  # Random seed as observation error.\n",
    ").fit()\n",
    "\n",
    "# Add symbols of significance.\n",
    "anova_results.anova_table[\"significance\"] = anova_results.anova_table.apply(\n",
    "    lambda row: (\n",
    "        \"***\"\n",
    "        if row[\"Pr > F\"] <= 0.001\n",
    "        else \"**\"\n",
    "        if row[\"Pr > F\"] <= 0.01\n",
    "        else \"*\"\n",
    "        if row[\"Pr > F\"] <= 0.05\n",
    "        else \"*\"\n",
    "        if row[\"Pr > F\"] <= 0.1\n",
    "        else \"\"\n",
    "    ),\n",
    "    axis=1,\n",
    ")\n",
    "\n",
    "# Add null hypothesis rejection.\n",
    "anova_results.anova_table[\"rejected\"] = anova_results.anova_table.apply(\n",
    "    lambda row: (row[\"Pr > F\"] <= 0.05), axis=1\n",
    ")\n",
    "anova_results.anova_table.astype({\"rejected\": \"bool\"})\n",
    "\n",
    "# Print ANOVA analysis results\n",
    "anova_results.anova_table"
   ]
  },
  {
   "cell_type": "markdown",
   "metadata": {},
   "source": [
    "Apply post-hoc analysis with Tukey HSD."
   ]
  },
  {
   "cell_type": "code",
   "execution_count": null,
   "metadata": {
    "scrolled": true
   },
   "outputs": [],
   "source": [
    "# For each parameter in ANOVA table.\n",
    "for parameters, anova_values in anova_results.anova_table.iterrows():\n",
    "    print(\"#############################\")\n",
    "    print(parameters)\n",
    "\n",
    "    # If null hypothesis rejected...\n",
    "    if anova_values[\"rejected\"] is True:\n",
    "\n",
    "        # Complete data with combination of parameters.\n",
    "        if \":\" in parameters:  # Case of a combination.\n",
    "            df_analysis[parameters] = df_analysis[parameters.split(\":\")[0]]\n",
    "            for parameter in parameters.split(\":\")[1:]:\n",
    "                df_analysis[parameters] += \":\" + df_analysis[parameter]\n",
    "\n",
    "        # Compute post-hoc comparison.\n",
    "        tukey = pairwise_tukeyhsd(\n",
    "            endog=df_analysis[\"V080v__iteration\"],\n",
    "            groups=df_analysis[parameters],\n",
    "            alpha=0.05,\n",
    "        )\n",
    "        print(tukey.summary())"
   ]
  },
  {
   "cell_type": "markdown",
   "metadata": {},
   "source": [
    "***WARNING***: _The post-hoc analysis in Python are not adjust with the Tukey HSD, so results can differ from R analysis._"
   ]
  }
 ],
 "metadata": {
  "kernelspec": {
   "display_name": "Python 3 (ipykernel)",
   "language": "python",
   "name": "python3"
  },
  "language_info": {
   "codemirror_mode": {
    "name": "ipython",
    "version": 3
   },
   "file_extension": ".py",
   "mimetype": "text/x-python",
   "name": "python",
   "nbconvert_exporter": "python",
   "pygments_lexer": "ipython3",
   "version": "3.8.10"
  }
 },
 "nbformat": 4,
 "nbformat_minor": 4
}
