{
 "cells": [
  {
   "cell_type": "markdown",
   "metadata": {},
   "source": [
    "# ==== INTERACTIVE CLUSTERING COMPARATIVE STUDY ====\n",
    "> ### Drafts."
   ]
  },
  {
   "cell_type": "markdown",
   "metadata": {},
   "source": [
    "------------------------------\n",
    "## READ-ME BEFORE RUNNING"
   ]
  },
  {
   "cell_type": "markdown",
   "metadata": {},
   "source": [
    "### Quick Description\n",
    "\n",
    "***#TODO:***"
   ]
  },
  {
   "cell_type": "markdown",
   "metadata": {},
   "source": [
    "### Description each steps\n",
    "\n",
    "***#TODO:***"
   ]
  },
  {
   "cell_type": "markdown",
   "metadata": {},
   "source": [
    "## [DRAFT] Compare kfold-SVM trainnings on clustering results"
   ]
  },
  {
   "cell_type": "markdown",
   "metadata": {},
   "source": [
    "***WARNING***: _Start by launching the experiment runs, evaluations and synthesis, and launching main effects analysis before the kfold-svm comparison !_"
   ]
  },
  {
   "cell_type": "markdown",
   "metadata": {},
   "source": [
    "Import Python dependencies."
   ]
  },
  {
   "cell_type": "code",
   "execution_count": null,
   "metadata": {},
   "outputs": [],
   "source": [
    "from typing import Dict, List, Union  # Python code typing (mypy).\n",
    "from scipy.sparse import csr_matrix  # To handle matrix and vectors.\n",
    "import json  # Serialization.\n",
    "import pickle  # noqa: S403  # Serialization.\n",
    "\n",
    "from sklearn import svm  # SVM training.\n",
    "from sklearn.model_selection import StratifiedKFold  # Cross validation management.\n",
    "from sklearn.model_selection import cross_val_score  # Cross validation management.\n",
    "import numpy  # Statistics computation.\n",
    "from scipy import stats as scipystats  # Statistics computation.\n",
    "\n",
    "from matplotlib import pyplot as plt  # Graph management.\n",
    "from matplotlib.figure import Figure  # Graph management."
   ]
  },
  {
   "cell_type": "markdown",
   "metadata": {},
   "source": [
    "Define settings to use (based on main effects and post-hoc analyses)."
   ]
  },
  {
   "cell_type": "code",
   "execution_count": null,
   "metadata": {},
   "outputs": [],
   "source": [
    "# Paremeters to use\n",
    "settings_to_use: Dict[str, str] = {\n",
    "    \"dataset\": \"bank_cards\",\n",
    "    \"preprocessing\": \"simple_prep\",\n",
    "    \"vectorisation\": \"tfidf\",\n",
    "    \"sampling\": \"closest-50\",\n",
    "    \"clustering\": \"hier_avg-10c\",\n",
    "    \"experiment_id\": \"0001\",\n",
    "}\n",
    "random_state: int = 42\n",
    "\n",
    "# Base exepriences to use (without experiment_id).\n",
    "env_to_use: str = (\n",
    "    \"../experiments/\"\n",
    "    + settings_to_use[\"dataset\"]\n",
    "    + \"/\"\n",
    "    + settings_to_use[\"preprocessing\"]\n",
    "    + \"/\"\n",
    "    + settings_to_use[\"vectorisation\"]\n",
    "    + \"/\"\n",
    "    + settings_to_use[\"sampling\"]\n",
    "    + \"/\"\n",
    "    + settings_to_use[\"clustering\"]\n",
    "    + \"/\"\n",
    "    + settings_to_use[\"experiment_id\"]\n",
    "    + \"/\"\n",
    ")\n",
    "env_to_use"
   ]
  },
  {
   "cell_type": "markdown",
   "metadata": {},
   "source": [
    "Load needed data (vectors, data IDs)."
   ]
  },
  {
   "cell_type": "code",
   "execution_count": null,
   "metadata": {},
   "outputs": [],
   "source": [
    "# Load dict of vectors.\n",
    "with open(env_to_use + \"../../../dict_of_vectors.pkl\", \"rb\") as file_vec:\n",
    "    dict_of_vectors: Dict[str, csr_matrix] = pickle.load(file_vec)  # noqa: S301\n",
    "\n",
    "# Get list of data IDs\n",
    "list_of_data_IDs: List[str] = sorted(dict_of_vectors.keys())\n",
    "\n",
    "# Format vectors\n",
    "vectors = csr_matrix(\n",
    "    [dict_of_vectors[data_ID].toarray()[0] for data_ID in list_of_data_IDs]\n",
    ")"
   ]
  },
  {
   "cell_type": "markdown",
   "metadata": {},
   "source": [
    "Initialize a linear SVC and a stratified KFold for classification training."
   ]
  },
  {
   "cell_type": "code",
   "execution_count": null,
   "metadata": {},
   "outputs": [],
   "source": [
    "# Initialize Linear SVC svm classifier.\n",
    "classification_model = svm.LinearSVC(random_state=random_state)\n",
    "\n",
    "# Initailize KFold cross valider.\n",
    "cross_valider = StratifiedKFold(n_splits=5, random_state=random_state, shuffle=True)"
   ]
  },
  {
   "cell_type": "markdown",
   "metadata": {},
   "source": [
    "Train the linear SVC with cross validation for several results of clustering."
   ]
  },
  {
   "cell_type": "code",
   "execution_count": null,
   "metadata": {
    "scrolled": true
   },
   "outputs": [],
   "source": [
    "# Information to compute.\n",
    "iterations: Dict[float, str] = {}\n",
    "clustering_labels: Dict[float, List[str]] = {}\n",
    "clustering_repartition: Dict[float, Dict[str, int]] = {}\n",
    "cross_validation_scores: Dict[float, List[float]] = {}\n",
    "cross_validation_mean_scores: Dict[float, float] = {}\n",
    "cross_validation_sem_scores: Dict[float, float] = {}\n",
    "\n",
    "# Load clusterings results.\n",
    "with open(env_to_use + \"dict_of_clustering_results.json\", \"r\") as file_clustering:\n",
    "    CLUSTERING_RESULTS: Dict[str, Dict[str, str]] = json.load(file_clustering)\n",
    "\n",
    "# Load clustering evaluation results.\n",
    "with open(env_to_use + \"dict_of_clustering_performances.json\", \"r\") as file_evaluation:\n",
    "    CLUSTERING_EVALUATIONS: Dict[str, Dict[str, float]] = json.load(file_evaluation)\n",
    "\n",
    "# Load iterations to highlight\n",
    "with open(env_to_use + \"dict_of_iterations_to_highlight.json\", \"r\") as file_iterations:\n",
    "    ITERATIONS_TO_HIGHTLIGH: Dict[str, Dict[str, Union[None, str, float]]] = json.load(\n",
    "        file_iterations\n",
    "    )\n",
    "ITERATIONS_TO_HIGHTLIGH[\"0\"] = {\"iteration\": \"0000\"}\n",
    "\n",
    "# For each metric to highlight...\n",
    "for _, values in sorted(ITERATIONS_TO_HIGHTLIGH.items()):\n",
    "\n",
    "    # Get iteration.\n",
    "    iteration: str = str(values[\"iteration\"])\n",
    "\n",
    "    # Get clustering performance.\n",
    "    v_measure = CLUSTERING_EVALUATIONS[iteration][\"v_measure\"]\n",
    "    iterations[v_measure] = iteration\n",
    "\n",
    "    # Load clustering labels.\n",
    "    clustering_labels[v_measure] = [\n",
    "        CLUSTERING_RESULTS[iteration][data_ID] for data_ID in list_of_data_IDs\n",
    "    ]\n",
    "\n",
    "    # Compute clusters repartition.\n",
    "    clustering_repartition[v_measure] = {\n",
    "        clustering_label: len(\n",
    "            [\n",
    "                y_pred\n",
    "                for y_pred in clustering_labels[v_measure]\n",
    "                if y_pred == clustering_label\n",
    "            ]\n",
    "        )\n",
    "        for clustering_label in set(clustering_labels[v_measure])\n",
    "    }\n",
    "\n",
    "    # Compute cross validation scores.\n",
    "    cross_validation_scores[v_measure] = cross_val_score(\n",
    "        estimator=classification_model,\n",
    "        X=vectors,\n",
    "        y=clustering_labels[v_measure],\n",
    "        scoring=\"accuracy\",  # accuracy, f1_macro, accuracy\n",
    "        cv=cross_valider,\n",
    "        n_jobs=-1,\n",
    "    )\n",
    "\n",
    "    # Compute cross vbalidation mean score.\n",
    "    cross_validation_mean_scores[v_measure] = numpy.mean(\n",
    "        cross_validation_scores[v_measure]\n",
    "    )\n",
    "    cross_validation_sem_scores[v_measure] = scipystats.sem(\n",
    "        cross_validation_scores[v_measure]\n",
    "    )\n",
    "\n",
    "# Print cross validation mean scores\n",
    "env_to_use, {\n",
    "    v_measure: {\n",
    "        \"mean\": float(str(cross_validation_mean_scores[v_measure])[:6]),\n",
    "        \"sem\": float(str(cross_validation_sem_scores[v_measure])[:6]),\n",
    "    }\n",
    "    for v_measure in sorted(cross_validation_mean_scores.keys())\n",
    "}"
   ]
  },
  {
   "cell_type": "markdown",
   "metadata": {},
   "source": [
    "Plot the linear SVC performance evolution in function of clustering v-measure."
   ]
  },
  {
   "cell_type": "code",
   "execution_count": null,
   "metadata": {},
   "outputs": [],
   "source": [
    "# Create a new figure.\n",
    "fig: Figure = plt.figure(figsize=(15, 7.5), dpi=300.0)\n",
    "axis = fig.gca()\n",
    "\n",
    "# Set range of axis.\n",
    "axis.set_xlim(xmin=0, xmax=1)\n",
    "# axis.set_ylim(ymin=0.85, ymax=1)\n",
    "\n",
    "# Plot svm performance.\n",
    "axis.plot(\n",
    "    [float(v_measure) for v_measure in cross_validation_mean_scores.keys()],  # x\n",
    "    [\n",
    "        cross_validation_mean_scores[v_measure]\n",
    "        for v_measure in cross_validation_mean_scores.keys()\n",
    "    ],  # y\n",
    "    # label=\"SVM performance\",\n",
    "    marker=\"o\",\n",
    "    markerfacecolor=\"black\",\n",
    "    markersize=5,\n",
    "    color=\"black\",\n",
    "    linewidth=1,\n",
    ")\n",
    "\n",
    "# Plot error bars for svm performance.\n",
    "axis.fill_between(\n",
    "    x=[float(v_measure) for v_measure in cross_validation_mean_scores.keys()],  # x\n",
    "    y1=[\n",
    "        cross_validation_mean_scores[v_measure] - cross_validation_sem_scores[v_measure]\n",
    "        for v_measure in cross_validation_mean_scores.keys()\n",
    "    ],  # y1\n",
    "    y2=[\n",
    "        cross_validation_mean_scores[v_measure] + cross_validation_sem_scores[v_measure]\n",
    "        for v_measure in cross_validation_mean_scores.keys()\n",
    "    ],  # y2\n",
    "    # label=\"Standard error of the mean\",\n",
    "    color=\"black\",\n",
    "    alpha=0.2,\n",
    ")\n",
    "\n",
    "# Plot a horizontal line\n",
    "axis.axhline(\n",
    "    y=cross_validation_mean_scores[1],\n",
    "    color=\"gray\",\n",
    "    linestyle=\"--\",\n",
    "    # label=\"\",\n",
    ")\n",
    "\n",
    "# Set axis name.\n",
    "axis.set_xlabel(\n",
    "    \"v-measure (%)\",\n",
    "    fontsize=18,\n",
    ")\n",
    "axis.set_ylabel(\n",
    "    \"accuracy (%)\",\n",
    "    fontsize=18,\n",
    ")\n",
    "\n",
    "# Plot the title.\n",
    "axis.set_title(\n",
    "    \"Evolution of accuracy obtained during training of an intents classification model\",\n",
    "    fontsize=20,\n",
    ")\n",
    "\n",
    "\n",
    "# Plot the grid.\n",
    "axis.grid(True)\n",
    "\n",
    "# Store the graph.\n",
    "fig.savefig(\n",
    "    \"../experiments/plot_svm_training_best_parameters.png\",\n",
    "    dpi=300,\n",
    "    transparent=True,\n",
    "    bbox_inches=\"tight\",\n",
    ")\n",
    "\n",
    "# Close figure.\n",
    "plt.close()"
   ]
  }
 ],
 "metadata": {
  "kernelspec": {
   "display_name": "Python 3 (ipykernel)",
   "language": "python",
   "name": "python3"
  },
  "language_info": {
   "codemirror_mode": {
    "name": "ipython",
    "version": 3
   },
   "file_extension": ".py",
   "mimetype": "text/x-python",
   "name": "python",
   "nbconvert_exporter": "python",
   "pygments_lexer": "ipython3",
   "version": "3.8.10"
  }
 },
 "nbformat": 4,
 "nbformat_minor": 4
}
