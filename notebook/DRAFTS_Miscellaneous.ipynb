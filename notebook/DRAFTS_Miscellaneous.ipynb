{
 "cells": [
  {
   "cell_type": "markdown",
   "id": "27aaf1c9",
   "metadata": {},
   "source": [
    "# ==== INTERACTIVE CLUSTERING COMPARATIVE STUDY ====\n",
    "> ### Drafts."
   ]
  },
  {
   "cell_type": "markdown",
   "id": "69a26800",
   "metadata": {},
   "source": [
    "------------------------------\n",
    "## READ-ME BEFORE RUNNING"
   ]
  },
  {
   "cell_type": "markdown",
   "id": "011d6d2a",
   "metadata": {},
   "source": [
    "### Quick Description\n",
    "\n",
    "***#TODO:***"
   ]
  },
  {
   "cell_type": "markdown",
   "id": "1cfaed82",
   "metadata": {},
   "source": [
    "### Description each steps\n",
    "\n",
    "***#TODO:***"
   ]
  },
  {
   "cell_type": "markdown",
   "id": "e53691c1",
   "metadata": {},
   "source": [
    "Import Python dependencies."
   ]
  },
  {
   "cell_type": "code",
   "execution_count": null,
   "id": "26c516df",
   "metadata": {},
   "outputs": [],
   "source": [
    "from typing import List  # Python code typing (mypy).\n",
    "import listing_envs  # Experiment path management.\n",
    "import json  # Serialization.\n",
    "import numpy  # Statistics computation."
   ]
  },
  {
   "cell_type": "markdown",
   "id": "88c66064",
   "metadata": {},
   "source": [
    "## [DRAFT] Compute average performance of unconstrained clustering (iteration 0)"
   ]
  },
  {
   "cell_type": "markdown",
   "id": "2cd0ea66",
   "metadata": {},
   "source": [
    "***WARNING***: _Start by launching the experiment runs, evaluations and synthesis, and launching main effects analysis before this section !_"
   ]
  },
  {
   "cell_type": "markdown",
   "id": "1cef321a",
   "metadata": {},
   "source": [
    "Find all experiment environments."
   ]
  },
  {
   "cell_type": "code",
   "execution_count": null,
   "id": "d0be68bc",
   "metadata": {},
   "outputs": [],
   "source": [
    "# Get list of experiment environments.\n",
    "LIST_OF_EXPERIMENT_ENVIRONMENTS: List[\n",
    "    str\n",
    "] = listing_envs.get_list_of_experiment_env_paths()\n",
    "print(\n",
    "    \"There are\",\n",
    "    \"`\" + str(len(LIST_OF_EXPERIMENT_ENVIRONMENTS)) + \"`\",\n",
    "    \"experiment environments in `../experiments`\",\n",
    ")"
   ]
  },
  {
   "cell_type": "markdown",
   "id": "b1327d1a",
   "metadata": {},
   "source": [
    "Get clustering performances at iteration 0."
   ]
  },
  {
   "cell_type": "code",
   "execution_count": null,
   "id": "03697024",
   "metadata": {},
   "outputs": [],
   "source": [
    "# Initialize list of clustering performances at iteration 0.\n",
    "list_of_clustering_performances_at_iteration_0: List[float] = []\n",
    "\n",
    "# For each environment...\n",
    "for ENV_PATH in LIST_OF_EXPERIMENT_ENVIRONMENTS:\n",
    "\n",
    "    # Load dictionary of clustering performances.\n",
    "    with open(\n",
    "        ENV_PATH + \"dict_of_clustering_performances.json\", \"r\"\n",
    "    ) as file_clustering_performances:\n",
    "        list_of_clustering_performances_at_iteration_0.append(\n",
    "            json.load(file_clustering_performances)[\"0000\"][\"v_measure\"]\n",
    "        )"
   ]
  },
  {
   "cell_type": "markdown",
   "id": "2a2ff7f7",
   "metadata": {},
   "source": [
    "Compute statistics on clustering performances at iteration 0."
   ]
  },
  {
   "cell_type": "code",
   "execution_count": null,
   "id": "869df1dc",
   "metadata": {},
   "outputs": [],
   "source": [
    "# Compute min of clustering performances at iteration 0.\n",
    "perf_min: float = min(list_of_clustering_performances_at_iteration_0)\n",
    "print(\"perf_min \", \":\", perf_min)\n",
    "# Compute max of clustering performances at iteration 0.\n",
    "perf_max: float = max(list_of_clustering_performances_at_iteration_0)\n",
    "print(\"perf_max \", \":\", perf_max)\n",
    "# Compute mean of clustering performances at iteration 0.\n",
    "perf_mean: float = numpy.mean(list_of_clustering_performances_at_iteration_0)\n",
    "print(\"perf_mean\", \":\", perf_mean)\n",
    "# Compute standard deviation of clustering performances at iteration 0.\n",
    "perf_std: float = numpy.std(list_of_clustering_performances_at_iteration_0)\n",
    "print(\"perf_std \", \":\", perf_std)"
   ]
  },
  {
   "cell_type": "code",
   "execution_count": null,
   "id": "a595d83f",
   "metadata": {},
   "outputs": [],
   "source": []
  }
 ],
 "metadata": {
  "kernelspec": {
   "display_name": "Python 3 (ipykernel)",
   "language": "python",
   "name": "python3"
  },
  "language_info": {
   "codemirror_mode": {
    "name": "ipython",
    "version": 3
   },
   "file_extension": ".py",
   "mimetype": "text/x-python",
   "name": "python",
   "nbconvert_exporter": "python",
   "pygments_lexer": "ipython3",
   "version": "3.8.10"
  }
 },
 "nbformat": 4,
 "nbformat_minor": 5
}
